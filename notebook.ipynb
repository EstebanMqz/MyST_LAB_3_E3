{
 "cells": [
  {
   "cell_type": "markdown",
   "metadata": {},
   "source": [
    "\n",
    "    \n",
    "    \n",
    "## <H2 align=\"center\"> <font color='white'> **MAF1731B**: Microstructure and Trading Systems </H2>\n",
    "\n",
    "### <H3 align=\"center\"> <font color='white'> **Laboratory 3**: Behavioral Finance </H3>\n",
    "\n",
    " <H5 align=\"center\"> <em> Professor: Villalobos Ramos Omar Antonio <em>\n",
    "\n",
    " <p align=\"center\"> <img style=\" margin: 30px 15px 15px 15px;\" src=\"https://pngimage.net/wp-content/uploads/2018/06/logo-iteso-png-5.png\" width=\"350\" height=\"150\" /> \n",
    "\n",
    " <strong> <H5 align=\"right\"> Student: Márquez Delgado Esteban <strong>\n",
    "\n",
    " *Registry*: if700637\n",
    "\n",
    " <center> <font color= #555555> <font size = 4> September 2022 </a> | <font color= #555555> <font size = 4> Repository: <a href='https://github.com/EstebanMqz/MyST_LAB_3_E3/tree/Esteban'>Link</a></font>"
   ]
  },
  {
   "cell_type": "markdown",
   "metadata": {},
   "source": [
    "<hr style=\"border:0.02in solid gray\"> </hr>"
   ]
  },
  {
   "cell_type": "markdown",
   "metadata": {},
   "source": [
    "<center> <font color= #555555> <font size = 6> Laboratory 3 </font> <br> <br> <font color= #555555> <font size = 5> Behavioral Finance  </font>"
   ]
  },
  {
   "cell_type": "markdown",
   "metadata": {},
   "source": [
    "<hr style=\"border:0.02in solid gray\"> </hr>"
   ]
  },
  {
   "cell_type": "markdown",
   "metadata": {},
   "source": [
    "### <font color= #555555> <font size = 4> Abstract </font>"
   ]
  },
  {
   "cell_type": "markdown",
   "metadata": {},
   "source": [
    "This document was prepared by Esteban Márquez Delgado as delivery for Laboratory 3 of Microstructure and Trading Systems - MAF1731B class during the Autumn 2022 course at ITESO for the Bachelor of Financial Engineering. Its objective relies on the analysis of past trading history (developed in Forex via MT5 in Lab 2) from the trader perspective divided into 3 sections (including visualizations):\n",
    "\n",
    "1. **Descriptive Statistics:** Functions that prepare the preprocessing of the data as well as generic calculations and a ranking table.\n",
    "2. **Performance Attribution Measures:** Performance measures like Sharpe's Ratio and Drawdown/Drawup.\n",
    "3. **Behavioral Finance:** Determination of the presence and quantification of the cognitive bias disposition effect."
   ]
  },
  {
   "cell_type": "markdown",
   "metadata": {},
   "source": [
    "<font color= lightblue> <font size = 4> 0. Libraries and Dependencies: </font>\n",
    "\n",
    "<font color= gray>\n",
    "\n",
    "**Note**: To run this notebook it is necessary to have the following libraries contained in the [requirements.txt](https://github.com/EstebanMqz/MyST_LAB_3_E3/blob/Esteban/requirements.txt) script of this project.\n",
    "\n",
    "To install the libraries in the script run the following cell:"
   ]
  },
  {
   "cell_type": "code",
   "execution_count": 1,
   "metadata": {},
   "outputs": [],
   "source": [
    "#!pip install -r requirements.txt"
   ]
  },
  {
   "cell_type": "markdown",
   "metadata": {},
   "source": [
    "If you prefer, manual installation can be done with the individual installation of the following libraries:\n",
    "\n",
    "<font color= lightblue> <font size = 1> \n",
    "+ pandas>=1.3.4\n",
    "+ numpy>=1.19.1\n",
    "+ jupyter>=1.0.0\n",
    "+ chart_studio>=1.1\n",
    "+ plotly>=4.14\n",
    "+ pandas_datareader>=0.10.0\n",
    "+ tk>=0.10\n",
    "+ plotly>=5.60\n",
    "+ yahoofinancials>=1.60\n",
    "+ scipy>=1.7.3\n",
    "+ regex>=2022.3.15\n",
    "+ matplotlib>=3.5.1\n",
    "+ fire>=0.4.0"
   ]
  },
  {
   "cell_type": "markdown",
   "metadata": {},
   "source": [
    "### <font color= lightblue> <font size = 4> 0.1 Introduction: </font>\n",
    "Behavioral finance studies the effects of the psychology of investors, inherent to human beings, and their effects on their investment decisions in the financial market because of the theory that states and proves that investors lack self control by the presence of their emotions, therefore, irrationality and biases are to be expected. With this laboratory the *disposition effect* defined as the tendency of investors to hold losing assets for too long and to sell winners too soon, will be detected and analyzed within historical trading data.\n",
    "\n",
    "<font color= gray>\n",
    "\n",
    "\n"
   ]
  },
  {
   "cell_type": "markdown",
   "metadata": {},
   "source": [
    "##### *General help:*\n",
    "In order, to retrieve specific help from the scripts in the project execute the help function on the script or in specific modules from the following:\n",
    "+ [data.py](https://github.com/EstebanMqz/MyST_LAB_3_E3/blob/Esteban/data.py)\n",
    "+ [functions.py](https://github.com/EstebanMqz/MyST_LAB_3_E3/blob/Esteban/functions.py)\n",
    "+ [visualizations.py](https://github.com/EstebanMqz/MyST_LAB_3_E3/blob/Esteban/visualizations.py)"
   ]
  },
  {
   "cell_type": "code",
   "execution_count": 2,
   "metadata": {},
   "outputs": [],
   "source": [
    "## Libraries\n",
    "# Analysis and data management\n",
    "import pandas as pd\n",
    "import pandas_datareader as pdr\n",
    "import numpy as np\n",
    "import datetime\n",
    "from tkinter.ttk import Style\n",
    "from tkinter import Y\n",
    "import plotly.graph_objects as go #plotly\n",
    "import plotly.express as px\n",
    "from yahoofinancials import YahooFinancials # Yfinance \n",
    "from scipy.optimize import minimize # Optimización \n",
    "from collections import Counter #Counter\n",
    "import re\n",
    "import io \n",
    "import glob\n",
    "import os\n",
    "import matplotlib.pyplot as plt # Visualization\n",
    "import functions as fn\n",
    "import visualizations as vs\n",
    "import data as dt\n",
    "import pandas as pd\n",
    "from os import path\n",
    "import fire\n",
    "%matplotlib inline"
   ]
  },
  {
   "cell_type": "markdown",
   "metadata": {},
   "source": [
    "<font color= lightblue> <font size = 4> 1. Descriptive statistics: </font>\n",
    "\n",
    "\n",
    "<font color= gray>\n"
   ]
  },
  {
   "cell_type": "markdown",
   "metadata": {},
   "source": [
    "<font color= lightblue> <font size = 2> 1.1 Read Data: </font>\n",
    "\n",
    "\n",
    "<font color= gray>"
   ]
  },
  {
   "cell_type": "code",
   "execution_count": 3,
   "metadata": {},
   "outputs": [
    {
     "name": "stdout",
     "output_type": "stream",
     "text": [
      "Help on function f_leer_archivo in module functions:\n",
      "\n",
      "f_leer_archivo(param_archivo)\n",
      "    Function that reads csv files and returns a dataframe of its content.\n",
      "        Parameters\n",
      "        ----------\n",
      "        param_archivo: csv data.\n",
      "        Returns\n",
      "        -------\n",
      "        data: pd.DataFrame(param_archivo)\n",
      "\n"
     ]
    }
   ],
   "source": [
    "help(fn.f_leer_archivo)"
   ]
  },
  {
   "cell_type": "markdown",
   "metadata": {},
   "source": [
    "With this csv the historics of MT5 operations from a simulator are reported."
   ]
  },
  {
   "cell_type": "code",
   "execution_count": 4,
   "metadata": {},
   "outputs": [
    {
     "data": {
      "text/html": [
       "<div>\n",
       "<style scoped>\n",
       "    .dataframe tbody tr th:only-of-type {\n",
       "        vertical-align: middle;\n",
       "    }\n",
       "\n",
       "    .dataframe tbody tr th {\n",
       "        vertical-align: top;\n",
       "    }\n",
       "\n",
       "    .dataframe thead th {\n",
       "        text-align: right;\n",
       "    }\n",
       "</style>\n",
       "<table border=\"1\" class=\"dataframe\">\n",
       "  <thead>\n",
       "    <tr style=\"text-align: right;\">\n",
       "      <th></th>\n",
       "      <th>Fecha/Hora</th>\n",
       "      <th>Posición</th>\n",
       "      <th>Símbolo</th>\n",
       "      <th>Tipo</th>\n",
       "      <th>Volumen</th>\n",
       "      <th>Precio</th>\n",
       "      <th>S / L</th>\n",
       "      <th>T / P</th>\n",
       "      <th>Fecha/Hora.1</th>\n",
       "      <th>Precio.1</th>\n",
       "      <th>Comisión</th>\n",
       "      <th>Swap</th>\n",
       "      <th>Beneficio</th>\n",
       "      <th>Lote</th>\n",
       "    </tr>\n",
       "  </thead>\n",
       "  <tbody>\n",
       "    <tr>\n",
       "      <th>0</th>\n",
       "      <td>2022.09.13 17:48:57</td>\n",
       "      <td>1456097851</td>\n",
       "      <td>USDMXN</td>\n",
       "      <td>buy</td>\n",
       "      <td>0.01</td>\n",
       "      <td>20.06662</td>\n",
       "      <td>NaN</td>\n",
       "      <td>NaN</td>\n",
       "      <td>2022.09.16 23:50:16</td>\n",
       "      <td>20.04611</td>\n",
       "      <td>0</td>\n",
       "      <td>1.09</td>\n",
       "      <td>-1.02</td>\n",
       "      <td>100 000.00</td>\n",
       "    </tr>\n",
       "    <tr>\n",
       "      <th>1</th>\n",
       "      <td>2022.09.13 17:53:00</td>\n",
       "      <td>1456103822</td>\n",
       "      <td>USDMXN</td>\n",
       "      <td>buy</td>\n",
       "      <td>0.01</td>\n",
       "      <td>20.06398</td>\n",
       "      <td>NaN</td>\n",
       "      <td>NaN</td>\n",
       "      <td>2022.09.16 23:50:18</td>\n",
       "      <td>20.04611</td>\n",
       "      <td>0</td>\n",
       "      <td>1.09</td>\n",
       "      <td>-0.89</td>\n",
       "      <td>100 000.00</td>\n",
       "    </tr>\n",
       "    <tr>\n",
       "      <th>2</th>\n",
       "      <td>2022.09.13 18:17:58</td>\n",
       "      <td>1456144995</td>\n",
       "      <td>USDMXN</td>\n",
       "      <td>buy</td>\n",
       "      <td>0.01</td>\n",
       "      <td>20.05822</td>\n",
       "      <td>NaN</td>\n",
       "      <td>NaN</td>\n",
       "      <td>2022.09.16 23:50:21</td>\n",
       "      <td>20.04611</td>\n",
       "      <td>0</td>\n",
       "      <td>1.09</td>\n",
       "      <td>-0.60</td>\n",
       "      <td>100 000.00</td>\n",
       "    </tr>\n",
       "    <tr>\n",
       "      <th>3</th>\n",
       "      <td>2022.09.13 18:18:15</td>\n",
       "      <td>1456145305</td>\n",
       "      <td>USDMXN</td>\n",
       "      <td>buy</td>\n",
       "      <td>0.01</td>\n",
       "      <td>20.05828</td>\n",
       "      <td>NaN</td>\n",
       "      <td>NaN</td>\n",
       "      <td>2022.09.16 23:50:24</td>\n",
       "      <td>20.04611</td>\n",
       "      <td>0</td>\n",
       "      <td>1.09</td>\n",
       "      <td>-0.61</td>\n",
       "      <td>100 000.00</td>\n",
       "    </tr>\n",
       "    <tr>\n",
       "      <th>4</th>\n",
       "      <td>2022.09.13 18:18:47</td>\n",
       "      <td>1456145908</td>\n",
       "      <td>USDMXN</td>\n",
       "      <td>buy</td>\n",
       "      <td>0.01</td>\n",
       "      <td>20.05644</td>\n",
       "      <td>NaN</td>\n",
       "      <td>NaN</td>\n",
       "      <td>2022.09.16 23:50:28</td>\n",
       "      <td>20.04611</td>\n",
       "      <td>0</td>\n",
       "      <td>1.09</td>\n",
       "      <td>-0.52</td>\n",
       "      <td>100 000.00</td>\n",
       "    </tr>\n",
       "  </tbody>\n",
       "</table>\n",
       "</div>"
      ],
      "text/plain": [
       "            Fecha/Hora    Posición Símbolo Tipo  Volumen    Precio  S / L  \\\n",
       "0  2022.09.13 17:48:57  1456097851  USDMXN  buy     0.01  20.06662    NaN   \n",
       "1  2022.09.13 17:53:00  1456103822  USDMXN  buy     0.01  20.06398    NaN   \n",
       "2  2022.09.13 18:17:58  1456144995  USDMXN  buy     0.01  20.05822    NaN   \n",
       "3  2022.09.13 18:18:15  1456145305  USDMXN  buy     0.01  20.05828    NaN   \n",
       "4  2022.09.13 18:18:47  1456145908  USDMXN  buy     0.01  20.05644    NaN   \n",
       "\n",
       "   T / P         Fecha/Hora.1  Precio.1  Comisión  Swap  Beneficio        Lote  \n",
       "0    NaN  2022.09.16 23:50:16  20.04611         0  1.09      -1.02  100 000.00  \n",
       "1    NaN  2022.09.16 23:50:18  20.04611         0  1.09      -0.89  100 000.00  \n",
       "2    NaN  2022.09.16 23:50:21  20.04611         0  1.09      -0.60  100 000.00  \n",
       "3    NaN  2022.09.16 23:50:24  20.04611         0  1.09      -0.61  100 000.00  \n",
       "4    NaN  2022.09.16 23:50:28  20.04611         0  1.09      -0.52  100 000.00  "
      ]
     },
     "execution_count": 4,
     "metadata": {},
     "output_type": "execute_result"
    }
   ],
   "source": [
    "data = fn.f_leer_archivo('files/Historics.csv')\n",
    "data.head()"
   ]
  },
  {
   "cell_type": "code",
   "execution_count": 5,
   "metadata": {},
   "outputs": [
    {
     "data": {
      "text/html": [
       "<div>\n",
       "<style scoped>\n",
       "    .dataframe tbody tr th:only-of-type {\n",
       "        vertical-align: middle;\n",
       "    }\n",
       "\n",
       "    .dataframe tbody tr th {\n",
       "        vertical-align: top;\n",
       "    }\n",
       "\n",
       "    .dataframe thead th {\n",
       "        text-align: right;\n",
       "    }\n",
       "</style>\n",
       "<table border=\"1\" class=\"dataframe\">\n",
       "  <thead>\n",
       "    <tr style=\"text-align: right;\">\n",
       "      <th></th>\n",
       "      <th>Fecha/Hora</th>\n",
       "      <th>Posición</th>\n",
       "      <th>Símbolo</th>\n",
       "      <th>Tipo</th>\n",
       "      <th>Volumen</th>\n",
       "      <th>Precio</th>\n",
       "      <th>S / L</th>\n",
       "      <th>T / P</th>\n",
       "      <th>Fecha/Hora.1</th>\n",
       "      <th>Precio.1</th>\n",
       "      <th>Comisión</th>\n",
       "      <th>Swap</th>\n",
       "      <th>Beneficio</th>\n",
       "      <th>Lote</th>\n",
       "    </tr>\n",
       "  </thead>\n",
       "  <tbody>\n",
       "    <tr>\n",
       "      <th>75</th>\n",
       "      <td>2022.09.23 15:24:29</td>\n",
       "      <td>1466689694</td>\n",
       "      <td>USDMXN</td>\n",
       "      <td>buy</td>\n",
       "      <td>0.01</td>\n",
       "      <td>20.09860</td>\n",
       "      <td>19.99</td>\n",
       "      <td>20.15</td>\n",
       "      <td>2022.09.23 16:01:45</td>\n",
       "      <td>20.15</td>\n",
       "      <td>0</td>\n",
       "      <td>0.0</td>\n",
       "      <td>2.55</td>\n",
       "      <td>100 000.00</td>\n",
       "    </tr>\n",
       "    <tr>\n",
       "      <th>76</th>\n",
       "      <td>2022.09.23 15:24:44</td>\n",
       "      <td>1466690221</td>\n",
       "      <td>USDMXN</td>\n",
       "      <td>buy</td>\n",
       "      <td>0.01</td>\n",
       "      <td>20.09837</td>\n",
       "      <td>19.99</td>\n",
       "      <td>20.15</td>\n",
       "      <td>2022.09.23 16:01:45</td>\n",
       "      <td>20.15</td>\n",
       "      <td>0</td>\n",
       "      <td>0.0</td>\n",
       "      <td>2.56</td>\n",
       "      <td>100 000.00</td>\n",
       "    </tr>\n",
       "    <tr>\n",
       "      <th>77</th>\n",
       "      <td>2022.09.23 15:24:57</td>\n",
       "      <td>1466690582</td>\n",
       "      <td>USDMXN</td>\n",
       "      <td>buy</td>\n",
       "      <td>0.01</td>\n",
       "      <td>20.10201</td>\n",
       "      <td>19.99</td>\n",
       "      <td>20.15</td>\n",
       "      <td>2022.09.23 16:01:45</td>\n",
       "      <td>20.15</td>\n",
       "      <td>0</td>\n",
       "      <td>0.0</td>\n",
       "      <td>2.38</td>\n",
       "      <td>100 000.00</td>\n",
       "    </tr>\n",
       "    <tr>\n",
       "      <th>78</th>\n",
       "      <td>2022.09.23 15:25:08</td>\n",
       "      <td>1466690888</td>\n",
       "      <td>USDMXN</td>\n",
       "      <td>buy</td>\n",
       "      <td>0.01</td>\n",
       "      <td>20.10218</td>\n",
       "      <td>19.99</td>\n",
       "      <td>20.15</td>\n",
       "      <td>2022.09.23 16:01:45</td>\n",
       "      <td>20.15</td>\n",
       "      <td>0</td>\n",
       "      <td>0.0</td>\n",
       "      <td>2.37</td>\n",
       "      <td>100 000.00</td>\n",
       "    </tr>\n",
       "    <tr>\n",
       "      <th>79</th>\n",
       "      <td>2022.09.23 15:25:17</td>\n",
       "      <td>1466691097</td>\n",
       "      <td>USDMXN</td>\n",
       "      <td>buy</td>\n",
       "      <td>0.01</td>\n",
       "      <td>20.10396</td>\n",
       "      <td>19.99</td>\n",
       "      <td>20.15</td>\n",
       "      <td>2022.09.23 16:01:45</td>\n",
       "      <td>20.15</td>\n",
       "      <td>0</td>\n",
       "      <td>0.0</td>\n",
       "      <td>2.28</td>\n",
       "      <td>100 000.00</td>\n",
       "    </tr>\n",
       "  </tbody>\n",
       "</table>\n",
       "</div>"
      ],
      "text/plain": [
       "             Fecha/Hora    Posición Símbolo Tipo  Volumen    Precio  S / L  \\\n",
       "75  2022.09.23 15:24:29  1466689694  USDMXN  buy     0.01  20.09860  19.99   \n",
       "76  2022.09.23 15:24:44  1466690221  USDMXN  buy     0.01  20.09837  19.99   \n",
       "77  2022.09.23 15:24:57  1466690582  USDMXN  buy     0.01  20.10201  19.99   \n",
       "78  2022.09.23 15:25:08  1466690888  USDMXN  buy     0.01  20.10218  19.99   \n",
       "79  2022.09.23 15:25:17  1466691097  USDMXN  buy     0.01  20.10396  19.99   \n",
       "\n",
       "    T / P         Fecha/Hora.1  Precio.1  Comisión  Swap  Beneficio  \\\n",
       "75  20.15  2022.09.23 16:01:45     20.15         0   0.0       2.55   \n",
       "76  20.15  2022.09.23 16:01:45     20.15         0   0.0       2.56   \n",
       "77  20.15  2022.09.23 16:01:45     20.15         0   0.0       2.38   \n",
       "78  20.15  2022.09.23 16:01:45     20.15         0   0.0       2.37   \n",
       "79  20.15  2022.09.23 16:01:45     20.15         0   0.0       2.28   \n",
       "\n",
       "          Lote  \n",
       "75  100 000.00  \n",
       "76  100 000.00  \n",
       "77  100 000.00  \n",
       "78  100 000.00  \n",
       "79  100 000.00  "
      ]
     },
     "execution_count": 5,
     "metadata": {},
     "output_type": "execute_result"
    }
   ],
   "source": [
    "data.tail()"
   ]
  },
  {
   "cell_type": "code",
   "execution_count": 6,
   "metadata": {},
   "outputs": [
    {
     "data": {
      "text/plain": [
       "(80, 14)"
      ]
     },
     "execution_count": 6,
     "metadata": {},
     "output_type": "execute_result"
    }
   ],
   "source": [
    "data.shape"
   ]
  },
  {
   "cell_type": "markdown",
   "metadata": {},
   "source": [
    "Data is visualized and It can be concluded that 80 rows and 14 columns are present."
   ]
  },
  {
   "cell_type": "markdown",
   "metadata": {},
   "source": [
    "<font color= lightblue> <font size = 2> 1.2 Pip Size: </font>\n",
    "\n",
    "\n",
    "<font color= gray>"
   ]
  },
  {
   "cell_type": "markdown",
   "metadata": {},
   "source": [
    "To get the pip size, it is necessary to have the the tick sizes for the traded instruments, these are some of the most common:\n",
    "+ [files/instruments_pips.csv](https://github.com/EstebanMqz/MyST_LAB_3_E3/tree/Esteban/files)"
   ]
  },
  {
   "cell_type": "code",
   "execution_count": 7,
   "metadata": {},
   "outputs": [
    {
     "data": {
      "text/html": [
       "<div>\n",
       "<style scoped>\n",
       "    .dataframe tbody tr th:only-of-type {\n",
       "        vertical-align: middle;\n",
       "    }\n",
       "\n",
       "    .dataframe tbody tr th {\n",
       "        vertical-align: top;\n",
       "    }\n",
       "\n",
       "    .dataframe thead th {\n",
       "        text-align: right;\n",
       "    }\n",
       "</style>\n",
       "<table border=\"1\" class=\"dataframe\">\n",
       "  <thead>\n",
       "    <tr style=\"text-align: right;\">\n",
       "      <th></th>\n",
       "      <th>Instrument</th>\n",
       "      <th>TickSize</th>\n",
       "    </tr>\n",
       "  </thead>\n",
       "  <tbody>\n",
       "    <tr>\n",
       "      <th>0</th>\n",
       "      <td>AU200_AUD</td>\n",
       "      <td>1.00</td>\n",
       "    </tr>\n",
       "    <tr>\n",
       "      <th>1</th>\n",
       "      <td>BCO_USD</td>\n",
       "      <td>0.01</td>\n",
       "    </tr>\n",
       "    <tr>\n",
       "      <th>2</th>\n",
       "      <td>CN50_USD</td>\n",
       "      <td>1.00</td>\n",
       "    </tr>\n",
       "    <tr>\n",
       "      <th>3</th>\n",
       "      <td>CORN_USD</td>\n",
       "      <td>0.01</td>\n",
       "    </tr>\n",
       "    <tr>\n",
       "      <th>4</th>\n",
       "      <td>DE10YB_EUR</td>\n",
       "      <td>0.01</td>\n",
       "    </tr>\n",
       "  </tbody>\n",
       "</table>\n",
       "</div>"
      ],
      "text/plain": [
       "   Instrument  TickSize\n",
       "0   AU200_AUD      1.00\n",
       "1     BCO_USD      0.01\n",
       "2    CN50_USD      1.00\n",
       "3    CORN_USD      0.01\n",
       "4  DE10YB_EUR      0.01"
      ]
     },
     "execution_count": 7,
     "metadata": {},
     "output_type": "execute_result"
    }
   ],
   "source": [
    "pips=fn.f_leer_archivo('files/instruments_pips.csv')\n",
    "pips=pips[['Instrument', 'TickSize']]\n",
    "pips.head()"
   ]
  },
  {
   "cell_type": "markdown",
   "metadata": {},
   "source": [
    "Now, we can proceed to discover which instruments were traded and make their strings readable."
   ]
  },
  {
   "cell_type": "code",
   "execution_count": 8,
   "metadata": {},
   "outputs": [
    {
     "data": {
      "text/plain": [
       "['USD_MXN', 'EUR_USD', 'GBP_USD']"
      ]
     },
     "execution_count": 8,
     "metadata": {},
     "output_type": "execute_result"
    }
   ],
   "source": [
    "sym=fn.symbols(data.Símbolo)\n",
    "sym"
   ]
  },
  {
   "cell_type": "markdown",
   "metadata": {},
   "source": [
    "The multiplier number to express price difference in pips for symbols:"
   ]
  },
  {
   "cell_type": "code",
   "execution_count": 9,
   "metadata": {},
   "outputs": [
    {
     "data": {
      "text/plain": [
       "[91    10000.0\n",
       " Name: TickSize, dtype: float64,\n",
       " 59    10000.0\n",
       " Name: TickSize, dtype: float64,\n",
       " 69    10000.0\n",
       " Name: TickSize, dtype: float64]"
      ]
     },
     "execution_count": 9,
     "metadata": {},
     "output_type": "execute_result"
    }
   ],
   "source": [
    "mult=[fn.f_pip_size(sym[i], pips) for i in range(0,len(sym))]\n",
    "mult"
   ]
  },
  {
   "cell_type": "markdown",
   "metadata": {},
   "source": [
    "<font color= lightblue> <font size = 2> 1.3 Time Column: </font>\n",
    "\n",
    "\n",
    "<font color= gray>"
   ]
  },
  {
   "cell_type": "markdown",
   "metadata": {},
   "source": [
    "In this section, more columns of time transformations are added to the data to get useful insights.\n"
   ]
  },
  {
   "cell_type": "code",
   "execution_count": 10,
   "metadata": {},
   "outputs": [
    {
     "name": "stdout",
     "output_type": "stream",
     "text": [
      "Help on function f_columnas_tiempos in module functions:\n",
      "\n",
      "f_columnas_tiempos(param_data, Open, Close)\n",
      "    Function that calculates column Open_pos for the existing dataframe.\n",
      "    Open_Pos: Calculates the difference between Open and Close time columns.\n",
      "    \n",
      "    Parameters\n",
      "    ----------\n",
      "    Open: Column of Open date as datetime64 format. \n",
      "    ej. data.Fecha/Hora for columns in files/Historics.csv\n",
      "    Close: Column of Close date as datetime64 format. \n",
      "    ej. data.Fecha/Hora.1 for columns in files/Historics.csv\n",
      "    -------\n",
      "    returns: Time elapsed for an Open Position in seconds.\n",
      "    + Open_Pos: A new column as datetime64 column, that represents the seconds for which the trade was open.\n",
      "\n"
     ]
    }
   ],
   "source": [
    "help(fn.f_columnas_tiempos)"
   ]
  },
  {
   "cell_type": "markdown",
   "metadata": {},
   "source": [
    "*Open_pos* column is added for the seconds that each trade remained open."
   ]
  },
  {
   "cell_type": "code",
   "execution_count": 11,
   "metadata": {},
   "outputs": [
    {
     "data": {
      "text/html": [
       "<div>\n",
       "<style scoped>\n",
       "    .dataframe tbody tr th:only-of-type {\n",
       "        vertical-align: middle;\n",
       "    }\n",
       "\n",
       "    .dataframe tbody tr th {\n",
       "        vertical-align: top;\n",
       "    }\n",
       "\n",
       "    .dataframe thead th {\n",
       "        text-align: right;\n",
       "    }\n",
       "</style>\n",
       "<table border=\"1\" class=\"dataframe\">\n",
       "  <thead>\n",
       "    <tr style=\"text-align: right;\">\n",
       "      <th></th>\n",
       "      <th>Fecha/Hora</th>\n",
       "      <th>Posición</th>\n",
       "      <th>Símbolo</th>\n",
       "      <th>Tipo</th>\n",
       "      <th>Volumen</th>\n",
       "      <th>Precio</th>\n",
       "      <th>S / L</th>\n",
       "      <th>T / P</th>\n",
       "      <th>Fecha/Hora.1</th>\n",
       "      <th>Precio.1</th>\n",
       "      <th>Comisión</th>\n",
       "      <th>Swap</th>\n",
       "      <th>Beneficio</th>\n",
       "      <th>Lote</th>\n",
       "      <th>Open</th>\n",
       "      <th>Close</th>\n",
       "      <th>Open_Pos</th>\n",
       "    </tr>\n",
       "  </thead>\n",
       "  <tbody>\n",
       "    <tr>\n",
       "      <th>0</th>\n",
       "      <td>2022.09.13 17:48:57</td>\n",
       "      <td>1456097851</td>\n",
       "      <td>USDMXN</td>\n",
       "      <td>buy</td>\n",
       "      <td>0.01</td>\n",
       "      <td>20.06662</td>\n",
       "      <td>NaN</td>\n",
       "      <td>NaN</td>\n",
       "      <td>2022.09.16 23:50:16</td>\n",
       "      <td>20.04611</td>\n",
       "      <td>0</td>\n",
       "      <td>1.09</td>\n",
       "      <td>-1.02</td>\n",
       "      <td>100 000.00</td>\n",
       "      <td>2022-09-13 17:48:57</td>\n",
       "      <td>2022-09-16 23:50:16</td>\n",
       "      <td>280879.0</td>\n",
       "    </tr>\n",
       "    <tr>\n",
       "      <th>1</th>\n",
       "      <td>2022.09.13 17:53:00</td>\n",
       "      <td>1456103822</td>\n",
       "      <td>USDMXN</td>\n",
       "      <td>buy</td>\n",
       "      <td>0.01</td>\n",
       "      <td>20.06398</td>\n",
       "      <td>NaN</td>\n",
       "      <td>NaN</td>\n",
       "      <td>2022.09.16 23:50:18</td>\n",
       "      <td>20.04611</td>\n",
       "      <td>0</td>\n",
       "      <td>1.09</td>\n",
       "      <td>-0.89</td>\n",
       "      <td>100 000.00</td>\n",
       "      <td>2022-09-13 17:53:00</td>\n",
       "      <td>2022-09-16 23:50:18</td>\n",
       "      <td>280638.0</td>\n",
       "    </tr>\n",
       "    <tr>\n",
       "      <th>2</th>\n",
       "      <td>2022.09.13 18:17:58</td>\n",
       "      <td>1456144995</td>\n",
       "      <td>USDMXN</td>\n",
       "      <td>buy</td>\n",
       "      <td>0.01</td>\n",
       "      <td>20.05822</td>\n",
       "      <td>NaN</td>\n",
       "      <td>NaN</td>\n",
       "      <td>2022.09.16 23:50:21</td>\n",
       "      <td>20.04611</td>\n",
       "      <td>0</td>\n",
       "      <td>1.09</td>\n",
       "      <td>-0.60</td>\n",
       "      <td>100 000.00</td>\n",
       "      <td>2022-09-13 18:17:58</td>\n",
       "      <td>2022-09-16 23:50:21</td>\n",
       "      <td>279143.0</td>\n",
       "    </tr>\n",
       "    <tr>\n",
       "      <th>3</th>\n",
       "      <td>2022.09.13 18:18:15</td>\n",
       "      <td>1456145305</td>\n",
       "      <td>USDMXN</td>\n",
       "      <td>buy</td>\n",
       "      <td>0.01</td>\n",
       "      <td>20.05828</td>\n",
       "      <td>NaN</td>\n",
       "      <td>NaN</td>\n",
       "      <td>2022.09.16 23:50:24</td>\n",
       "      <td>20.04611</td>\n",
       "      <td>0</td>\n",
       "      <td>1.09</td>\n",
       "      <td>-0.61</td>\n",
       "      <td>100 000.00</td>\n",
       "      <td>2022-09-13 18:18:15</td>\n",
       "      <td>2022-09-16 23:50:24</td>\n",
       "      <td>279129.0</td>\n",
       "    </tr>\n",
       "    <tr>\n",
       "      <th>4</th>\n",
       "      <td>2022.09.13 18:18:47</td>\n",
       "      <td>1456145908</td>\n",
       "      <td>USDMXN</td>\n",
       "      <td>buy</td>\n",
       "      <td>0.01</td>\n",
       "      <td>20.05644</td>\n",
       "      <td>NaN</td>\n",
       "      <td>NaN</td>\n",
       "      <td>2022.09.16 23:50:28</td>\n",
       "      <td>20.04611</td>\n",
       "      <td>0</td>\n",
       "      <td>1.09</td>\n",
       "      <td>-0.52</td>\n",
       "      <td>100 000.00</td>\n",
       "      <td>2022-09-13 18:18:47</td>\n",
       "      <td>2022-09-16 23:50:28</td>\n",
       "      <td>279101.0</td>\n",
       "    </tr>\n",
       "  </tbody>\n",
       "</table>\n",
       "</div>"
      ],
      "text/plain": [
       "            Fecha/Hora    Posición Símbolo Tipo  Volumen    Precio  S / L  \\\n",
       "0  2022.09.13 17:48:57  1456097851  USDMXN  buy     0.01  20.06662    NaN   \n",
       "1  2022.09.13 17:53:00  1456103822  USDMXN  buy     0.01  20.06398    NaN   \n",
       "2  2022.09.13 18:17:58  1456144995  USDMXN  buy     0.01  20.05822    NaN   \n",
       "3  2022.09.13 18:18:15  1456145305  USDMXN  buy     0.01  20.05828    NaN   \n",
       "4  2022.09.13 18:18:47  1456145908  USDMXN  buy     0.01  20.05644    NaN   \n",
       "\n",
       "   T / P         Fecha/Hora.1  Precio.1  Comisión  Swap  Beneficio  \\\n",
       "0    NaN  2022.09.16 23:50:16  20.04611         0  1.09      -1.02   \n",
       "1    NaN  2022.09.16 23:50:18  20.04611         0  1.09      -0.89   \n",
       "2    NaN  2022.09.16 23:50:21  20.04611         0  1.09      -0.60   \n",
       "3    NaN  2022.09.16 23:50:24  20.04611         0  1.09      -0.61   \n",
       "4    NaN  2022.09.16 23:50:28  20.04611         0  1.09      -0.52   \n",
       "\n",
       "         Lote                Open               Close  Open_Pos  \n",
       "0  100 000.00 2022-09-13 17:48:57 2022-09-16 23:50:16  280879.0  \n",
       "1  100 000.00 2022-09-13 17:53:00 2022-09-16 23:50:18  280638.0  \n",
       "2  100 000.00 2022-09-13 18:17:58 2022-09-16 23:50:21  279143.0  \n",
       "3  100 000.00 2022-09-13 18:18:15 2022-09-16 23:50:24  279129.0  \n",
       "4  100 000.00 2022-09-13 18:18:47 2022-09-16 23:50:28  279101.0  "
      ]
     },
     "execution_count": 11,
     "metadata": {},
     "output_type": "execute_result"
    }
   ],
   "source": [
    "fn.f_columnas_tiempos(data, data['Fecha/Hora'], data['Fecha/Hora.1']).head()"
   ]
  },
  {
   "cell_type": "markdown",
   "metadata": {},
   "source": [
    "The histogram shows that USD_MXN total positions were hold for the most time."
   ]
  },
  {
   "cell_type": "code",
   "execution_count": 12,
   "metadata": {},
   "outputs": [
    {
     "data": {
      "application/vnd.plotly.v1+json": {
       "config": {
        "plotlyServerURL": "https://plot.ly"
       },
       "data": [
        {
         "alignmentgroup": "True",
         "bingroup": "x",
         "histfunc": "sum",
         "hovertemplate": "color=USDMXN<br>x=%{x}<br>sum of y=%{y}<extra></extra>",
         "legendgroup": "USDMXN",
         "marker": {
          "color": "#636efa",
          "pattern": {
           "shape": ""
          }
         },
         "name": "USDMXN",
         "offsetgroup": "USDMXN",
         "orientation": "v",
         "showlegend": true,
         "type": "histogram",
         "x": [
          "USDMXN",
          "USDMXN",
          "USDMXN",
          "USDMXN",
          "USDMXN",
          "USDMXN",
          "USDMXN",
          "USDMXN",
          "USDMXN",
          "USDMXN",
          "USDMXN",
          "USDMXN",
          "USDMXN",
          "USDMXN",
          "USDMXN",
          "USDMXN",
          "USDMXN",
          "USDMXN",
          "USDMXN",
          "USDMXN",
          "USDMXN",
          "USDMXN",
          "USDMXN"
         ],
         "xaxis": "x",
         "y": [
          280879,
          280638,
          279143,
          279129,
          279101,
          279094,
          200223,
          199799,
          199433,
          199439,
          199070,
          198748,
          102618,
          11956,
          11939,
          11926,
          11871,
          11858,
          2236,
          2221,
          2208,
          2197,
          2188
         ],
         "yaxis": "y"
        },
        {
         "alignmentgroup": "True",
         "bingroup": "x",
         "histfunc": "sum",
         "hovertemplate": "color=EURUSD<br>x=%{x}<br>sum of y=%{y}<extra></extra>",
         "legendgroup": "EURUSD",
         "marker": {
          "color": "#EF553B",
          "pattern": {
           "shape": ""
          }
         },
         "name": "EURUSD",
         "offsetgroup": "EURUSD",
         "orientation": "v",
         "showlegend": true,
         "type": "histogram",
         "x": [
          "EURUSD",
          "EURUSD",
          "EURUSD",
          "EURUSD",
          "EURUSD",
          "EURUSD",
          "EURUSD",
          "EURUSD",
          "EURUSD",
          "EURUSD",
          "EURUSD",
          "EURUSD",
          "EURUSD",
          "EURUSD",
          "EURUSD",
          "EURUSD",
          "EURUSD",
          "EURUSD",
          "EURUSD",
          "EURUSD",
          "EURUSD",
          "EURUSD",
          "EURUSD",
          "EURUSD",
          "EURUSD",
          "EURUSD",
          "EURUSD",
          "EURUSD",
          "EURUSD",
          "EURUSD",
          "EURUSD",
          "EURUSD",
          "EURUSD",
          "EURUSD",
          "EURUSD",
          "EURUSD",
          "EURUSD",
          "EURUSD",
          "EURUSD",
          "EURUSD",
          "EURUSD",
          "EURUSD",
          "EURUSD",
          "EURUSD",
          "EURUSD",
          "EURUSD",
          "EURUSD",
          "EURUSD",
          "EURUSD",
          "EURUSD",
          "EURUSD",
          "EURUSD",
          "EURUSD"
         ],
         "xaxis": "x",
         "y": [
          83995,
          84175,
          84288,
          84175,
          84167,
          84176,
          84175,
          84003,
          84005,
          84006,
          4196,
          4193,
          4340,
          4343,
          4438,
          4438,
          4404,
          2163,
          2157,
          2072,
          2071,
          2069,
          2072,
          2072,
          2072,
          2000.0000000000002,
          1998.0000000000002,
          1996.0000000000002,
          2014.0000000000002,
          1204,
          1204,
          1466,
          1461,
          1452,
          1452,
          1465,
          1194,
          1188,
          234196.00000000003,
          1007.0000000000001,
          1005.0000000000001,
          1005.0000000000001,
          1004.0000000000001,
          1003.0000000000001,
          1003.0000000000001,
          1004.0000000000001,
          1002.0000000000001,
          1004.0000000000001,
          2329,
          2318,
          2308,
          2297,
          2287
         ],
         "yaxis": "y"
        },
        {
         "alignmentgroup": "True",
         "bingroup": "x",
         "histfunc": "sum",
         "hovertemplate": "color=GBPUSD<br>x=%{x}<br>sum of y=%{y}<extra></extra>",
         "legendgroup": "GBPUSD",
         "marker": {
          "color": "#00cc96",
          "pattern": {
           "shape": ""
          }
         },
         "name": "GBPUSD",
         "offsetgroup": "GBPUSD",
         "orientation": "v",
         "showlegend": true,
         "type": "histogram",
         "x": [
          "GBPUSD",
          "GBPUSD",
          "GBPUSD",
          "GBPUSD"
         ],
         "xaxis": "x",
         "y": [
          100750,
          100736,
          100597,
          100581
         ],
         "yaxis": "y"
        }
       ],
       "layout": {
        "barmode": "relative",
        "legend": {
         "title": {
          "text": "color"
         },
         "tracegroupgap": 0
        },
        "template": {
         "data": {
          "bar": [
           {
            "error_x": {
             "color": "#2a3f5f"
            },
            "error_y": {
             "color": "#2a3f5f"
            },
            "marker": {
             "line": {
              "color": "#E5ECF6",
              "width": 0.5
             },
             "pattern": {
              "fillmode": "overlay",
              "size": 10,
              "solidity": 0.2
             }
            },
            "type": "bar"
           }
          ],
          "barpolar": [
           {
            "marker": {
             "line": {
              "color": "#E5ECF6",
              "width": 0.5
             },
             "pattern": {
              "fillmode": "overlay",
              "size": 10,
              "solidity": 0.2
             }
            },
            "type": "barpolar"
           }
          ],
          "carpet": [
           {
            "aaxis": {
             "endlinecolor": "#2a3f5f",
             "gridcolor": "white",
             "linecolor": "white",
             "minorgridcolor": "white",
             "startlinecolor": "#2a3f5f"
            },
            "baxis": {
             "endlinecolor": "#2a3f5f",
             "gridcolor": "white",
             "linecolor": "white",
             "minorgridcolor": "white",
             "startlinecolor": "#2a3f5f"
            },
            "type": "carpet"
           }
          ],
          "choropleth": [
           {
            "colorbar": {
             "outlinewidth": 0,
             "ticks": ""
            },
            "type": "choropleth"
           }
          ],
          "contour": [
           {
            "colorbar": {
             "outlinewidth": 0,
             "ticks": ""
            },
            "colorscale": [
             [
              0,
              "#0d0887"
             ],
             [
              0.1111111111111111,
              "#46039f"
             ],
             [
              0.2222222222222222,
              "#7201a8"
             ],
             [
              0.3333333333333333,
              "#9c179e"
             ],
             [
              0.4444444444444444,
              "#bd3786"
             ],
             [
              0.5555555555555556,
              "#d8576b"
             ],
             [
              0.6666666666666666,
              "#ed7953"
             ],
             [
              0.7777777777777778,
              "#fb9f3a"
             ],
             [
              0.8888888888888888,
              "#fdca26"
             ],
             [
              1,
              "#f0f921"
             ]
            ],
            "type": "contour"
           }
          ],
          "contourcarpet": [
           {
            "colorbar": {
             "outlinewidth": 0,
             "ticks": ""
            },
            "type": "contourcarpet"
           }
          ],
          "heatmap": [
           {
            "colorbar": {
             "outlinewidth": 0,
             "ticks": ""
            },
            "colorscale": [
             [
              0,
              "#0d0887"
             ],
             [
              0.1111111111111111,
              "#46039f"
             ],
             [
              0.2222222222222222,
              "#7201a8"
             ],
             [
              0.3333333333333333,
              "#9c179e"
             ],
             [
              0.4444444444444444,
              "#bd3786"
             ],
             [
              0.5555555555555556,
              "#d8576b"
             ],
             [
              0.6666666666666666,
              "#ed7953"
             ],
             [
              0.7777777777777778,
              "#fb9f3a"
             ],
             [
              0.8888888888888888,
              "#fdca26"
             ],
             [
              1,
              "#f0f921"
             ]
            ],
            "type": "heatmap"
           }
          ],
          "heatmapgl": [
           {
            "colorbar": {
             "outlinewidth": 0,
             "ticks": ""
            },
            "colorscale": [
             [
              0,
              "#0d0887"
             ],
             [
              0.1111111111111111,
              "#46039f"
             ],
             [
              0.2222222222222222,
              "#7201a8"
             ],
             [
              0.3333333333333333,
              "#9c179e"
             ],
             [
              0.4444444444444444,
              "#bd3786"
             ],
             [
              0.5555555555555556,
              "#d8576b"
             ],
             [
              0.6666666666666666,
              "#ed7953"
             ],
             [
              0.7777777777777778,
              "#fb9f3a"
             ],
             [
              0.8888888888888888,
              "#fdca26"
             ],
             [
              1,
              "#f0f921"
             ]
            ],
            "type": "heatmapgl"
           }
          ],
          "histogram": [
           {
            "marker": {
             "pattern": {
              "fillmode": "overlay",
              "size": 10,
              "solidity": 0.2
             }
            },
            "type": "histogram"
           }
          ],
          "histogram2d": [
           {
            "colorbar": {
             "outlinewidth": 0,
             "ticks": ""
            },
            "colorscale": [
             [
              0,
              "#0d0887"
             ],
             [
              0.1111111111111111,
              "#46039f"
             ],
             [
              0.2222222222222222,
              "#7201a8"
             ],
             [
              0.3333333333333333,
              "#9c179e"
             ],
             [
              0.4444444444444444,
              "#bd3786"
             ],
             [
              0.5555555555555556,
              "#d8576b"
             ],
             [
              0.6666666666666666,
              "#ed7953"
             ],
             [
              0.7777777777777778,
              "#fb9f3a"
             ],
             [
              0.8888888888888888,
              "#fdca26"
             ],
             [
              1,
              "#f0f921"
             ]
            ],
            "type": "histogram2d"
           }
          ],
          "histogram2dcontour": [
           {
            "colorbar": {
             "outlinewidth": 0,
             "ticks": ""
            },
            "colorscale": [
             [
              0,
              "#0d0887"
             ],
             [
              0.1111111111111111,
              "#46039f"
             ],
             [
              0.2222222222222222,
              "#7201a8"
             ],
             [
              0.3333333333333333,
              "#9c179e"
             ],
             [
              0.4444444444444444,
              "#bd3786"
             ],
             [
              0.5555555555555556,
              "#d8576b"
             ],
             [
              0.6666666666666666,
              "#ed7953"
             ],
             [
              0.7777777777777778,
              "#fb9f3a"
             ],
             [
              0.8888888888888888,
              "#fdca26"
             ],
             [
              1,
              "#f0f921"
             ]
            ],
            "type": "histogram2dcontour"
           }
          ],
          "mesh3d": [
           {
            "colorbar": {
             "outlinewidth": 0,
             "ticks": ""
            },
            "type": "mesh3d"
           }
          ],
          "parcoords": [
           {
            "line": {
             "colorbar": {
              "outlinewidth": 0,
              "ticks": ""
             }
            },
            "type": "parcoords"
           }
          ],
          "pie": [
           {
            "automargin": true,
            "type": "pie"
           }
          ],
          "scatter": [
           {
            "marker": {
             "colorbar": {
              "outlinewidth": 0,
              "ticks": ""
             }
            },
            "type": "scatter"
           }
          ],
          "scatter3d": [
           {
            "line": {
             "colorbar": {
              "outlinewidth": 0,
              "ticks": ""
             }
            },
            "marker": {
             "colorbar": {
              "outlinewidth": 0,
              "ticks": ""
             }
            },
            "type": "scatter3d"
           }
          ],
          "scattercarpet": [
           {
            "marker": {
             "colorbar": {
              "outlinewidth": 0,
              "ticks": ""
             }
            },
            "type": "scattercarpet"
           }
          ],
          "scattergeo": [
           {
            "marker": {
             "colorbar": {
              "outlinewidth": 0,
              "ticks": ""
             }
            },
            "type": "scattergeo"
           }
          ],
          "scattergl": [
           {
            "marker": {
             "colorbar": {
              "outlinewidth": 0,
              "ticks": ""
             }
            },
            "type": "scattergl"
           }
          ],
          "scattermapbox": [
           {
            "marker": {
             "colorbar": {
              "outlinewidth": 0,
              "ticks": ""
             }
            },
            "type": "scattermapbox"
           }
          ],
          "scatterpolar": [
           {
            "marker": {
             "colorbar": {
              "outlinewidth": 0,
              "ticks": ""
             }
            },
            "type": "scatterpolar"
           }
          ],
          "scatterpolargl": [
           {
            "marker": {
             "colorbar": {
              "outlinewidth": 0,
              "ticks": ""
             }
            },
            "type": "scatterpolargl"
           }
          ],
          "scatterternary": [
           {
            "marker": {
             "colorbar": {
              "outlinewidth": 0,
              "ticks": ""
             }
            },
            "type": "scatterternary"
           }
          ],
          "surface": [
           {
            "colorbar": {
             "outlinewidth": 0,
             "ticks": ""
            },
            "colorscale": [
             [
              0,
              "#0d0887"
             ],
             [
              0.1111111111111111,
              "#46039f"
             ],
             [
              0.2222222222222222,
              "#7201a8"
             ],
             [
              0.3333333333333333,
              "#9c179e"
             ],
             [
              0.4444444444444444,
              "#bd3786"
             ],
             [
              0.5555555555555556,
              "#d8576b"
             ],
             [
              0.6666666666666666,
              "#ed7953"
             ],
             [
              0.7777777777777778,
              "#fb9f3a"
             ],
             [
              0.8888888888888888,
              "#fdca26"
             ],
             [
              1,
              "#f0f921"
             ]
            ],
            "type": "surface"
           }
          ],
          "table": [
           {
            "cells": {
             "fill": {
              "color": "#EBF0F8"
             },
             "line": {
              "color": "white"
             }
            },
            "header": {
             "fill": {
              "color": "#C8D4E3"
             },
             "line": {
              "color": "white"
             }
            },
            "type": "table"
           }
          ]
         },
         "layout": {
          "annotationdefaults": {
           "arrowcolor": "#2a3f5f",
           "arrowhead": 0,
           "arrowwidth": 1
          },
          "autotypenumbers": "strict",
          "coloraxis": {
           "colorbar": {
            "outlinewidth": 0,
            "ticks": ""
           }
          },
          "colorscale": {
           "diverging": [
            [
             0,
             "#8e0152"
            ],
            [
             0.1,
             "#c51b7d"
            ],
            [
             0.2,
             "#de77ae"
            ],
            [
             0.3,
             "#f1b6da"
            ],
            [
             0.4,
             "#fde0ef"
            ],
            [
             0.5,
             "#f7f7f7"
            ],
            [
             0.6,
             "#e6f5d0"
            ],
            [
             0.7,
             "#b8e186"
            ],
            [
             0.8,
             "#7fbc41"
            ],
            [
             0.9,
             "#4d9221"
            ],
            [
             1,
             "#276419"
            ]
           ],
           "sequential": [
            [
             0,
             "#0d0887"
            ],
            [
             0.1111111111111111,
             "#46039f"
            ],
            [
             0.2222222222222222,
             "#7201a8"
            ],
            [
             0.3333333333333333,
             "#9c179e"
            ],
            [
             0.4444444444444444,
             "#bd3786"
            ],
            [
             0.5555555555555556,
             "#d8576b"
            ],
            [
             0.6666666666666666,
             "#ed7953"
            ],
            [
             0.7777777777777778,
             "#fb9f3a"
            ],
            [
             0.8888888888888888,
             "#fdca26"
            ],
            [
             1,
             "#f0f921"
            ]
           ],
           "sequentialminus": [
            [
             0,
             "#0d0887"
            ],
            [
             0.1111111111111111,
             "#46039f"
            ],
            [
             0.2222222222222222,
             "#7201a8"
            ],
            [
             0.3333333333333333,
             "#9c179e"
            ],
            [
             0.4444444444444444,
             "#bd3786"
            ],
            [
             0.5555555555555556,
             "#d8576b"
            ],
            [
             0.6666666666666666,
             "#ed7953"
            ],
            [
             0.7777777777777778,
             "#fb9f3a"
            ],
            [
             0.8888888888888888,
             "#fdca26"
            ],
            [
             1,
             "#f0f921"
            ]
           ]
          },
          "colorway": [
           "#636efa",
           "#EF553B",
           "#00cc96",
           "#ab63fa",
           "#FFA15A",
           "#19d3f3",
           "#FF6692",
           "#B6E880",
           "#FF97FF",
           "#FECB52"
          ],
          "font": {
           "color": "#2a3f5f"
          },
          "geo": {
           "bgcolor": "white",
           "lakecolor": "white",
           "landcolor": "#E5ECF6",
           "showlakes": true,
           "showland": true,
           "subunitcolor": "white"
          },
          "hoverlabel": {
           "align": "left"
          },
          "hovermode": "closest",
          "mapbox": {
           "style": "light"
          },
          "paper_bgcolor": "white",
          "plot_bgcolor": "#E5ECF6",
          "polar": {
           "angularaxis": {
            "gridcolor": "white",
            "linecolor": "white",
            "ticks": ""
           },
           "bgcolor": "#E5ECF6",
           "radialaxis": {
            "gridcolor": "white",
            "linecolor": "white",
            "ticks": ""
           }
          },
          "scene": {
           "xaxis": {
            "backgroundcolor": "#E5ECF6",
            "gridcolor": "white",
            "gridwidth": 2,
            "linecolor": "white",
            "showbackground": true,
            "ticks": "",
            "zerolinecolor": "white"
           },
           "yaxis": {
            "backgroundcolor": "#E5ECF6",
            "gridcolor": "white",
            "gridwidth": 2,
            "linecolor": "white",
            "showbackground": true,
            "ticks": "",
            "zerolinecolor": "white"
           },
           "zaxis": {
            "backgroundcolor": "#E5ECF6",
            "gridcolor": "white",
            "gridwidth": 2,
            "linecolor": "white",
            "showbackground": true,
            "ticks": "",
            "zerolinecolor": "white"
           }
          },
          "shapedefaults": {
           "line": {
            "color": "#2a3f5f"
           }
          },
          "ternary": {
           "aaxis": {
            "gridcolor": "white",
            "linecolor": "white",
            "ticks": ""
           },
           "baxis": {
            "gridcolor": "white",
            "linecolor": "white",
            "ticks": ""
           },
           "bgcolor": "#E5ECF6",
           "caxis": {
            "gridcolor": "white",
            "linecolor": "white",
            "ticks": ""
           }
          },
          "title": {
           "x": 0.05
          },
          "xaxis": {
           "automargin": true,
           "gridcolor": "white",
           "linecolor": "white",
           "ticks": "",
           "title": {
            "standoff": 15
           },
           "zerolinecolor": "white",
           "zerolinewidth": 2
          },
          "yaxis": {
           "automargin": true,
           "gridcolor": "white",
           "linecolor": "white",
           "ticks": "",
           "title": {
            "standoff": 15
           },
           "zerolinecolor": "white",
           "zerolinewidth": 2
          }
         }
        },
        "title": {
         "text": "Time Elapsed for Positions (s)"
        },
        "xaxis": {
         "anchor": "y",
         "categoryorder": "total descending",
         "domain": [
          0,
          1
         ],
         "title": {
          "text": "Símbolo"
         }
        },
        "yaxis": {
         "anchor": "x",
         "domain": [
          0,
          1
         ],
         "tickfont": {
          "size": 9
         },
         "title": {
          "text": "Open_Pos"
         }
        }
       }
      }
     },
     "metadata": {},
     "output_type": "display_data"
    }
   ],
   "source": [
    "Pos_t=data[['Símbolo', 'Open_Pos']]\n",
    "vs.hist_csv(Pos_t, 'Time Elapsed for Positions (s)', 'Símbolo', 'Open_Pos')"
   ]
  },
  {
   "cell_type": "markdown",
   "metadata": {},
   "source": [
    "<font color= lightblue> <font size = 2> 1.4 Pips/Acum & Acum. Profit Columns: </font>\n",
    "\n",
    "\n",
    "<font color= gray>"
   ]
  },
  {
   "cell_type": "markdown",
   "metadata": {},
   "source": [
    "The number of pips resulting from each operation, including its sign and their accumulated values are calculated in new columns.\n",
    "\n",
    "Profit Accumulation is expressed in a new column as well.\n",
    "\n",
    "In order to express the price difference in pips it's necessary to know the tick size that stands for the minimum price change. Knowing the tick size it's possible to obtain the pip size."
   ]
  },
  {
   "cell_type": "code",
   "execution_count": 13,
   "metadata": {},
   "outputs": [
    {
     "data": {
      "text/html": [
       "<div>\n",
       "<style scoped>\n",
       "    .dataframe tbody tr th:only-of-type {\n",
       "        vertical-align: middle;\n",
       "    }\n",
       "\n",
       "    .dataframe tbody tr th {\n",
       "        vertical-align: top;\n",
       "    }\n",
       "\n",
       "    .dataframe thead th {\n",
       "        text-align: right;\n",
       "    }\n",
       "</style>\n",
       "<table border=\"1\" class=\"dataframe\">\n",
       "  <thead>\n",
       "    <tr style=\"text-align: right;\">\n",
       "      <th></th>\n",
       "      <th>Instrument</th>\n",
       "      <th>TickSize</th>\n",
       "    </tr>\n",
       "  </thead>\n",
       "  <tbody>\n",
       "    <tr>\n",
       "      <th>0</th>\n",
       "      <td>AU200_AUD</td>\n",
       "      <td>1.00</td>\n",
       "    </tr>\n",
       "    <tr>\n",
       "      <th>1</th>\n",
       "      <td>BCO_USD</td>\n",
       "      <td>0.01</td>\n",
       "    </tr>\n",
       "    <tr>\n",
       "      <th>2</th>\n",
       "      <td>CN50_USD</td>\n",
       "      <td>1.00</td>\n",
       "    </tr>\n",
       "    <tr>\n",
       "      <th>3</th>\n",
       "      <td>CORN_USD</td>\n",
       "      <td>0.01</td>\n",
       "    </tr>\n",
       "    <tr>\n",
       "      <th>4</th>\n",
       "      <td>DE10YB_EUR</td>\n",
       "      <td>0.01</td>\n",
       "    </tr>\n",
       "  </tbody>\n",
       "</table>\n",
       "</div>"
      ],
      "text/plain": [
       "   Instrument  TickSize\n",
       "0   AU200_AUD      1.00\n",
       "1     BCO_USD      0.01\n",
       "2    CN50_USD      1.00\n",
       "3    CORN_USD      0.01\n",
       "4  DE10YB_EUR      0.01"
      ]
     },
     "execution_count": 13,
     "metadata": {},
     "output_type": "execute_result"
    }
   ],
   "source": [
    "pips=fn.f_leer_archivo('files\\instruments_pips.csv')\n",
    "pips=pips[['Instrument', 'TickSize']]\n",
    "pips.head()"
   ]
  },
  {
   "cell_type": "code",
   "execution_count": 14,
   "metadata": {},
   "outputs": [
    {
     "name": "stdout",
     "output_type": "stream",
     "text": [
      "Help on function f_columnas_pips in module functions:\n",
      "\n",
      "f_columnas_pips(param_data, pips)\n",
      "    Function that adds more columns of pip transformations.\n",
      "    + Pips: Column where the number of resulting pips for each operation should be, including its sign:\n",
      "    - Buy Trade: (closeprice - openprice)*mult.\n",
      "    - Sell Trade: (openprice - closeprice)*mult.\n",
      "    + pips_acm: The accumulated value of the pips column.\n",
      "    + profit_acm: The accumulated value of the profit column.\n",
      "    \n",
      "    Parameters\n",
      "    ----------\n",
      "    param_data: DataFrame base.\n",
      "    pips: General tick size file instruments.csv\n",
      "    -------\n",
      "    returns: Historic data with Pips, pips_acm, profit_acm new columns.\n",
      "\n"
     ]
    }
   ],
   "source": [
    "help(fn.f_columnas_pips)"
   ]
  },
  {
   "cell_type": "code",
   "execution_count": 15,
   "metadata": {},
   "outputs": [
    {
     "data": {
      "text/html": [
       "<div>\n",
       "<style scoped>\n",
       "    .dataframe tbody tr th:only-of-type {\n",
       "        vertical-align: middle;\n",
       "    }\n",
       "\n",
       "    .dataframe tbody tr th {\n",
       "        vertical-align: top;\n",
       "    }\n",
       "\n",
       "    .dataframe thead th {\n",
       "        text-align: right;\n",
       "    }\n",
       "</style>\n",
       "<table border=\"1\" class=\"dataframe\">\n",
       "  <thead>\n",
       "    <tr style=\"text-align: right;\">\n",
       "      <th></th>\n",
       "      <th>Fecha/Hora</th>\n",
       "      <th>Posición</th>\n",
       "      <th>Símbolo</th>\n",
       "      <th>Tipo</th>\n",
       "      <th>Volumen</th>\n",
       "      <th>Precio</th>\n",
       "      <th>S / L</th>\n",
       "      <th>T / P</th>\n",
       "      <th>Fecha/Hora.1</th>\n",
       "      <th>Precio.1</th>\n",
       "      <th>Comisión</th>\n",
       "      <th>Swap</th>\n",
       "      <th>Beneficio</th>\n",
       "      <th>Lote</th>\n",
       "      <th>Open</th>\n",
       "      <th>Close</th>\n",
       "      <th>Open_Pos</th>\n",
       "      <th>Pips</th>\n",
       "      <th>pips_acm</th>\n",
       "      <th>profit_acm</th>\n",
       "    </tr>\n",
       "  </thead>\n",
       "  <tbody>\n",
       "    <tr>\n",
       "      <th>0</th>\n",
       "      <td>2022.09.13 17:48:57</td>\n",
       "      <td>1456097851</td>\n",
       "      <td>USDMXN</td>\n",
       "      <td>buy</td>\n",
       "      <td>0.01</td>\n",
       "      <td>20.06662</td>\n",
       "      <td>NaN</td>\n",
       "      <td>NaN</td>\n",
       "      <td>2022.09.16 23:50:16</td>\n",
       "      <td>20.04611</td>\n",
       "      <td>0</td>\n",
       "      <td>1.09</td>\n",
       "      <td>-1.02</td>\n",
       "      <td>100 000.00</td>\n",
       "      <td>2022-09-13 17:48:57</td>\n",
       "      <td>2022-09-16 23:50:16</td>\n",
       "      <td>280879.0</td>\n",
       "      <td>-0.02051</td>\n",
       "      <td>-0.02051</td>\n",
       "      <td>-1.02</td>\n",
       "    </tr>\n",
       "    <tr>\n",
       "      <th>1</th>\n",
       "      <td>2022.09.13 17:53:00</td>\n",
       "      <td>1456103822</td>\n",
       "      <td>USDMXN</td>\n",
       "      <td>buy</td>\n",
       "      <td>0.01</td>\n",
       "      <td>20.06398</td>\n",
       "      <td>NaN</td>\n",
       "      <td>NaN</td>\n",
       "      <td>2022.09.16 23:50:18</td>\n",
       "      <td>20.04611</td>\n",
       "      <td>0</td>\n",
       "      <td>1.09</td>\n",
       "      <td>-0.89</td>\n",
       "      <td>100 000.00</td>\n",
       "      <td>2022-09-13 17:53:00</td>\n",
       "      <td>2022-09-16 23:50:18</td>\n",
       "      <td>280638.0</td>\n",
       "      <td>-0.01787</td>\n",
       "      <td>-0.03838</td>\n",
       "      <td>-1.91</td>\n",
       "    </tr>\n",
       "    <tr>\n",
       "      <th>2</th>\n",
       "      <td>2022.09.13 18:17:58</td>\n",
       "      <td>1456144995</td>\n",
       "      <td>USDMXN</td>\n",
       "      <td>buy</td>\n",
       "      <td>0.01</td>\n",
       "      <td>20.05822</td>\n",
       "      <td>NaN</td>\n",
       "      <td>NaN</td>\n",
       "      <td>2022.09.16 23:50:21</td>\n",
       "      <td>20.04611</td>\n",
       "      <td>0</td>\n",
       "      <td>1.09</td>\n",
       "      <td>-0.60</td>\n",
       "      <td>100 000.00</td>\n",
       "      <td>2022-09-13 18:17:58</td>\n",
       "      <td>2022-09-16 23:50:21</td>\n",
       "      <td>279143.0</td>\n",
       "      <td>-0.01211</td>\n",
       "      <td>-0.05049</td>\n",
       "      <td>-2.51</td>\n",
       "    </tr>\n",
       "    <tr>\n",
       "      <th>3</th>\n",
       "      <td>2022.09.13 18:18:15</td>\n",
       "      <td>1456145305</td>\n",
       "      <td>USDMXN</td>\n",
       "      <td>buy</td>\n",
       "      <td>0.01</td>\n",
       "      <td>20.05828</td>\n",
       "      <td>NaN</td>\n",
       "      <td>NaN</td>\n",
       "      <td>2022.09.16 23:50:24</td>\n",
       "      <td>20.04611</td>\n",
       "      <td>0</td>\n",
       "      <td>1.09</td>\n",
       "      <td>-0.61</td>\n",
       "      <td>100 000.00</td>\n",
       "      <td>2022-09-13 18:18:15</td>\n",
       "      <td>2022-09-16 23:50:24</td>\n",
       "      <td>279129.0</td>\n",
       "      <td>-0.01217</td>\n",
       "      <td>-0.06266</td>\n",
       "      <td>-3.12</td>\n",
       "    </tr>\n",
       "    <tr>\n",
       "      <th>4</th>\n",
       "      <td>2022.09.13 18:18:47</td>\n",
       "      <td>1456145908</td>\n",
       "      <td>USDMXN</td>\n",
       "      <td>buy</td>\n",
       "      <td>0.01</td>\n",
       "      <td>20.05644</td>\n",
       "      <td>NaN</td>\n",
       "      <td>NaN</td>\n",
       "      <td>2022.09.16 23:50:28</td>\n",
       "      <td>20.04611</td>\n",
       "      <td>0</td>\n",
       "      <td>1.09</td>\n",
       "      <td>-0.52</td>\n",
       "      <td>100 000.00</td>\n",
       "      <td>2022-09-13 18:18:47</td>\n",
       "      <td>2022-09-16 23:50:28</td>\n",
       "      <td>279101.0</td>\n",
       "      <td>-0.01033</td>\n",
       "      <td>-0.07299</td>\n",
       "      <td>-3.64</td>\n",
       "    </tr>\n",
       "  </tbody>\n",
       "</table>\n",
       "</div>"
      ],
      "text/plain": [
       "            Fecha/Hora    Posición Símbolo Tipo  Volumen    Precio  S / L  \\\n",
       "0  2022.09.13 17:48:57  1456097851  USDMXN  buy     0.01  20.06662    NaN   \n",
       "1  2022.09.13 17:53:00  1456103822  USDMXN  buy     0.01  20.06398    NaN   \n",
       "2  2022.09.13 18:17:58  1456144995  USDMXN  buy     0.01  20.05822    NaN   \n",
       "3  2022.09.13 18:18:15  1456145305  USDMXN  buy     0.01  20.05828    NaN   \n",
       "4  2022.09.13 18:18:47  1456145908  USDMXN  buy     0.01  20.05644    NaN   \n",
       "\n",
       "   T / P         Fecha/Hora.1  Precio.1  Comisión  Swap  Beneficio  \\\n",
       "0    NaN  2022.09.16 23:50:16  20.04611         0  1.09      -1.02   \n",
       "1    NaN  2022.09.16 23:50:18  20.04611         0  1.09      -0.89   \n",
       "2    NaN  2022.09.16 23:50:21  20.04611         0  1.09      -0.60   \n",
       "3    NaN  2022.09.16 23:50:24  20.04611         0  1.09      -0.61   \n",
       "4    NaN  2022.09.16 23:50:28  20.04611         0  1.09      -0.52   \n",
       "\n",
       "         Lote                Open               Close  Open_Pos     Pips  \\\n",
       "0  100 000.00 2022-09-13 17:48:57 2022-09-16 23:50:16  280879.0 -0.02051   \n",
       "1  100 000.00 2022-09-13 17:53:00 2022-09-16 23:50:18  280638.0 -0.01787   \n",
       "2  100 000.00 2022-09-13 18:17:58 2022-09-16 23:50:21  279143.0 -0.01211   \n",
       "3  100 000.00 2022-09-13 18:18:15 2022-09-16 23:50:24  279129.0 -0.01217   \n",
       "4  100 000.00 2022-09-13 18:18:47 2022-09-16 23:50:28  279101.0 -0.01033   \n",
       "\n",
       "   pips_acm  profit_acm  \n",
       "0  -0.02051       -1.02  \n",
       "1  -0.03838       -1.91  \n",
       "2  -0.05049       -2.51  \n",
       "3  -0.06266       -3.12  \n",
       "4  -0.07299       -3.64  "
      ]
     },
     "execution_count": 15,
     "metadata": {},
     "output_type": "execute_result"
    }
   ],
   "source": [
    "data=fn.f_columnas_pips(data,pips)\n",
    "data.head()"
   ]
  },
  {
   "cell_type": "markdown",
   "metadata": {},
   "source": [
    "Accumulated pips are .36 and the accumulated profit is 317."
   ]
  },
  {
   "cell_type": "code",
   "execution_count": 16,
   "metadata": {},
   "outputs": [
    {
     "data": {
      "text/html": [
       "<div>\n",
       "<style scoped>\n",
       "    .dataframe tbody tr th:only-of-type {\n",
       "        vertical-align: middle;\n",
       "    }\n",
       "\n",
       "    .dataframe tbody tr th {\n",
       "        vertical-align: top;\n",
       "    }\n",
       "\n",
       "    .dataframe thead th {\n",
       "        text-align: right;\n",
       "    }\n",
       "</style>\n",
       "<table border=\"1\" class=\"dataframe\">\n",
       "  <thead>\n",
       "    <tr style=\"text-align: right;\">\n",
       "      <th></th>\n",
       "      <th>Fecha/Hora</th>\n",
       "      <th>Posición</th>\n",
       "      <th>Símbolo</th>\n",
       "      <th>Tipo</th>\n",
       "      <th>Volumen</th>\n",
       "      <th>Precio</th>\n",
       "      <th>S / L</th>\n",
       "      <th>T / P</th>\n",
       "      <th>Fecha/Hora.1</th>\n",
       "      <th>Precio.1</th>\n",
       "      <th>Comisión</th>\n",
       "      <th>Swap</th>\n",
       "      <th>Beneficio</th>\n",
       "      <th>Lote</th>\n",
       "      <th>Open</th>\n",
       "      <th>Close</th>\n",
       "      <th>Open_Pos</th>\n",
       "      <th>Pips</th>\n",
       "      <th>pips_acm</th>\n",
       "      <th>profit_acm</th>\n",
       "    </tr>\n",
       "  </thead>\n",
       "  <tbody>\n",
       "    <tr>\n",
       "      <th>75</th>\n",
       "      <td>2022.09.23 15:24:29</td>\n",
       "      <td>1466689694</td>\n",
       "      <td>USDMXN</td>\n",
       "      <td>buy</td>\n",
       "      <td>0.01</td>\n",
       "      <td>20.09860</td>\n",
       "      <td>19.99</td>\n",
       "      <td>20.15</td>\n",
       "      <td>2022.09.23 16:01:45</td>\n",
       "      <td>20.15</td>\n",
       "      <td>0</td>\n",
       "      <td>0.0</td>\n",
       "      <td>2.55</td>\n",
       "      <td>100 000.00</td>\n",
       "      <td>2022-09-23 15:24:29</td>\n",
       "      <td>2022-09-23 16:01:45</td>\n",
       "      <td>2236.0</td>\n",
       "      <td>0.05140</td>\n",
       "      <td>0.16390</td>\n",
       "      <td>307.56</td>\n",
       "    </tr>\n",
       "    <tr>\n",
       "      <th>76</th>\n",
       "      <td>2022.09.23 15:24:44</td>\n",
       "      <td>1466690221</td>\n",
       "      <td>USDMXN</td>\n",
       "      <td>buy</td>\n",
       "      <td>0.01</td>\n",
       "      <td>20.09837</td>\n",
       "      <td>19.99</td>\n",
       "      <td>20.15</td>\n",
       "      <td>2022.09.23 16:01:45</td>\n",
       "      <td>20.15</td>\n",
       "      <td>0</td>\n",
       "      <td>0.0</td>\n",
       "      <td>2.56</td>\n",
       "      <td>100 000.00</td>\n",
       "      <td>2022-09-23 15:24:44</td>\n",
       "      <td>2022-09-23 16:01:45</td>\n",
       "      <td>2221.0</td>\n",
       "      <td>0.05163</td>\n",
       "      <td>0.21553</td>\n",
       "      <td>310.12</td>\n",
       "    </tr>\n",
       "    <tr>\n",
       "      <th>77</th>\n",
       "      <td>2022.09.23 15:24:57</td>\n",
       "      <td>1466690582</td>\n",
       "      <td>USDMXN</td>\n",
       "      <td>buy</td>\n",
       "      <td>0.01</td>\n",
       "      <td>20.10201</td>\n",
       "      <td>19.99</td>\n",
       "      <td>20.15</td>\n",
       "      <td>2022.09.23 16:01:45</td>\n",
       "      <td>20.15</td>\n",
       "      <td>0</td>\n",
       "      <td>0.0</td>\n",
       "      <td>2.38</td>\n",
       "      <td>100 000.00</td>\n",
       "      <td>2022-09-23 15:24:57</td>\n",
       "      <td>2022-09-23 16:01:45</td>\n",
       "      <td>2208.0</td>\n",
       "      <td>0.04799</td>\n",
       "      <td>0.26352</td>\n",
       "      <td>312.50</td>\n",
       "    </tr>\n",
       "    <tr>\n",
       "      <th>78</th>\n",
       "      <td>2022.09.23 15:25:08</td>\n",
       "      <td>1466690888</td>\n",
       "      <td>USDMXN</td>\n",
       "      <td>buy</td>\n",
       "      <td>0.01</td>\n",
       "      <td>20.10218</td>\n",
       "      <td>19.99</td>\n",
       "      <td>20.15</td>\n",
       "      <td>2022.09.23 16:01:45</td>\n",
       "      <td>20.15</td>\n",
       "      <td>0</td>\n",
       "      <td>0.0</td>\n",
       "      <td>2.37</td>\n",
       "      <td>100 000.00</td>\n",
       "      <td>2022-09-23 15:25:08</td>\n",
       "      <td>2022-09-23 16:01:45</td>\n",
       "      <td>2197.0</td>\n",
       "      <td>0.04782</td>\n",
       "      <td>0.31134</td>\n",
       "      <td>314.87</td>\n",
       "    </tr>\n",
       "    <tr>\n",
       "      <th>79</th>\n",
       "      <td>2022.09.23 15:25:17</td>\n",
       "      <td>1466691097</td>\n",
       "      <td>USDMXN</td>\n",
       "      <td>buy</td>\n",
       "      <td>0.01</td>\n",
       "      <td>20.10396</td>\n",
       "      <td>19.99</td>\n",
       "      <td>20.15</td>\n",
       "      <td>2022.09.23 16:01:45</td>\n",
       "      <td>20.15</td>\n",
       "      <td>0</td>\n",
       "      <td>0.0</td>\n",
       "      <td>2.28</td>\n",
       "      <td>100 000.00</td>\n",
       "      <td>2022-09-23 15:25:17</td>\n",
       "      <td>2022-09-23 16:01:45</td>\n",
       "      <td>2188.0</td>\n",
       "      <td>0.04604</td>\n",
       "      <td>0.35738</td>\n",
       "      <td>317.15</td>\n",
       "    </tr>\n",
       "  </tbody>\n",
       "</table>\n",
       "</div>"
      ],
      "text/plain": [
       "             Fecha/Hora    Posición Símbolo Tipo  Volumen    Precio  S / L  \\\n",
       "75  2022.09.23 15:24:29  1466689694  USDMXN  buy     0.01  20.09860  19.99   \n",
       "76  2022.09.23 15:24:44  1466690221  USDMXN  buy     0.01  20.09837  19.99   \n",
       "77  2022.09.23 15:24:57  1466690582  USDMXN  buy     0.01  20.10201  19.99   \n",
       "78  2022.09.23 15:25:08  1466690888  USDMXN  buy     0.01  20.10218  19.99   \n",
       "79  2022.09.23 15:25:17  1466691097  USDMXN  buy     0.01  20.10396  19.99   \n",
       "\n",
       "    T / P         Fecha/Hora.1  Precio.1  Comisión  Swap  Beneficio  \\\n",
       "75  20.15  2022.09.23 16:01:45     20.15         0   0.0       2.55   \n",
       "76  20.15  2022.09.23 16:01:45     20.15         0   0.0       2.56   \n",
       "77  20.15  2022.09.23 16:01:45     20.15         0   0.0       2.38   \n",
       "78  20.15  2022.09.23 16:01:45     20.15         0   0.0       2.37   \n",
       "79  20.15  2022.09.23 16:01:45     20.15         0   0.0       2.28   \n",
       "\n",
       "          Lote                Open               Close  Open_Pos     Pips  \\\n",
       "75  100 000.00 2022-09-23 15:24:29 2022-09-23 16:01:45    2236.0  0.05140   \n",
       "76  100 000.00 2022-09-23 15:24:44 2022-09-23 16:01:45    2221.0  0.05163   \n",
       "77  100 000.00 2022-09-23 15:24:57 2022-09-23 16:01:45    2208.0  0.04799   \n",
       "78  100 000.00 2022-09-23 15:25:08 2022-09-23 16:01:45    2197.0  0.04782   \n",
       "79  100 000.00 2022-09-23 15:25:17 2022-09-23 16:01:45    2188.0  0.04604   \n",
       "\n",
       "    pips_acm  profit_acm  \n",
       "75   0.16390      307.56  \n",
       "76   0.21553      310.12  \n",
       "77   0.26352      312.50  \n",
       "78   0.31134      314.87  \n",
       "79   0.35738      317.15  "
      ]
     },
     "execution_count": 16,
     "metadata": {},
     "output_type": "execute_result"
    }
   ],
   "source": [
    "data.tail()"
   ]
  },
  {
   "cell_type": "markdown",
   "metadata": {},
   "source": [
    "The behavior of the profits are shown and the strategy was to reduce risks after making a good profit. \n",
    "\n",
    "Investors psychology tend to bias the risks taken after a significant profit/loss."
   ]
  },
  {
   "cell_type": "code",
   "execution_count": 20,
   "metadata": {},
   "outputs": [
    {
     "data": {
      "application/vnd.plotly.v1+json": {
       "config": {
        "plotlyServerURL": "https://plot.ly"
       },
       "data": [
        {
         "line": {
          "color": "black"
         },
         "marker": {
          "color": "blue",
          "symbol": 3
         },
         "mode": "lines+markers",
         "name": "Capital",
         "type": "scatter",
         "x": [
          "2022-09-16T23:50:16",
          "2022-09-16T23:50:18",
          "2022-09-16T23:50:21",
          "2022-09-16T23:50:24",
          "2022-09-16T23:50:28",
          "2022-09-16T23:50:32",
          "2022-09-16T23:51:51",
          "2022-09-16T23:54:14",
          "2022-09-16T23:51:54",
          "2022-09-16T23:52:09",
          "2022-09-16T23:54:17",
          "2022-09-16T23:49:02",
          "2022-09-16T23:48:44",
          "2022-09-16T23:49:08",
          "2022-09-16T23:52:12",
          "2022-09-16T23:54:11",
          "2022-09-16T23:52:21",
          "2022-09-16T23:52:17",
          "2022-09-16T23:52:30",
          "2022-09-16T23:52:33",
          "2022-09-16T23:49:45",
          "2022-09-16T23:49:50",
          "2022-09-16T23:49:54",
          "2022-09-16T23:49:59",
          "2022-09-16T23:50:02",
          "2022-09-16T23:52:36",
          "2022-09-16T23:52:43",
          "2022-09-16T23:54:21",
          "2022-09-16T23:54:25",
          "2022-09-16T23:54:04",
          "2022-09-16T23:54:29",
          "2022-09-16T23:54:32",
          "2022-09-16T23:53:13",
          "2022-09-16T23:53:16",
          "2022-09-16T23:53:19",
          "2022-09-16T23:53:25",
          "2022-09-16T23:53:28",
          "2022-09-16T23:53:30",
          "2022-09-16T23:53:33",
          "2022-09-16T23:53:35",
          "2022-09-16T23:53:38",
          "2022-09-16T23:53:58",
          "2022-09-16T23:49:21",
          "2022-09-16T23:49:26",
          "2022-09-16T23:53:51",
          "2022-09-16T23:53:48",
          "2022-09-16T23:53:42",
          "2022-09-16T23:53:45",
          "2022-09-16T23:54:01",
          "2022-09-16T23:49:34",
          "2022-09-16T23:49:30",
          "2022-09-19T16:48:42",
          "2022-09-19T17:12:52",
          "2022-09-19T17:12:57",
          "2022-09-19T17:13:00",
          "2022-09-19T17:13:02",
          "2022-09-19T17:13:05",
          "2022-09-19T17:13:09",
          "2022-09-19T17:13:12",
          "2022-09-19T17:13:14",
          "2022-09-19T17:13:19",
          "2022-09-21T21:00:27",
          "2022-09-21T21:00:27",
          "2022-09-21T21:00:27",
          "2022-09-21T21:00:27",
          "2022-09-23T10:13:49",
          "2022-09-23T10:13:49",
          "2022-09-23T10:13:49",
          "2022-09-23T10:13:49",
          "2022-09-23T10:13:49",
          "2022-09-23T12:42:12",
          "2022-09-23T12:42:12",
          "2022-09-23T12:42:12",
          "2022-09-23T12:42:12",
          "2022-09-23T12:42:12",
          "2022-09-23T16:01:45",
          "2022-09-23T16:01:45",
          "2022-09-23T16:01:45",
          "2022-09-23T16:01:45",
          "2022-09-23T16:01:45"
         ],
         "y": [
          -1.02,
          -1.9100000000000001,
          -2.5100000000000002,
          -3.12,
          -3.64,
          -4.16,
          -3.96,
          -4.39,
          -4.069999999999999,
          -3.8599999999999994,
          -4.2299999999999995,
          -4.22,
          15.150000000000002,
          16.360000000000003,
          17.690000000000005,
          19.100000000000005,
          20.410000000000004,
          21.740000000000002,
          23.080000000000002,
          24.42,
          25.720000000000002,
          27.020000000000003,
          28.330000000000002,
          28.6,
          28.92,
          29.180000000000003,
          29.550000000000004,
          29.920000000000005,
          30.300000000000004,
          30.710000000000004,
          30.840000000000003,
          30.950000000000003,
          31.060000000000002,
          31.160000000000004,
          31.320000000000004,
          31.550000000000004,
          31.800000000000004,
          32.050000000000004,
          32.36000000000001,
          32.690000000000005,
          33.010000000000005,
          33.32000000000001,
          35.66000000000001,
          37.48000000000001,
          41.51000000000001,
          45.41000000000001,
          48.79000000000001,
          52.30000000000001,
          55.42000000000001,
          56.46000000000001,
          57.63000000000001,
          390.51,
          390.71999999999997,
          390.9,
          391.06,
          391.26,
          391.46,
          391.66999999999996,
          391.85999999999996,
          392.02,
          392.19,
          343.14,
          333.37,
          323.47,
          303.33000000000004,
          305.20000000000005,
          307.07000000000005,
          309.00000000000006,
          310.89000000000004,
          312.75000000000006,
          311.13000000000005,
          309.46000000000004,
          307.96000000000004,
          306.47,
          305.01000000000005,
          307.56000000000006,
          310.12000000000006,
          312.50000000000006,
          314.87000000000006,
          317.15000000000003
         ]
        }
       ],
       "layout": {
        "template": {
         "data": {
          "bar": [
           {
            "error_x": {
             "color": "#2a3f5f"
            },
            "error_y": {
             "color": "#2a3f5f"
            },
            "marker": {
             "line": {
              "color": "#E5ECF6",
              "width": 0.5
             },
             "pattern": {
              "fillmode": "overlay",
              "size": 10,
              "solidity": 0.2
             }
            },
            "type": "bar"
           }
          ],
          "barpolar": [
           {
            "marker": {
             "line": {
              "color": "#E5ECF6",
              "width": 0.5
             },
             "pattern": {
              "fillmode": "overlay",
              "size": 10,
              "solidity": 0.2
             }
            },
            "type": "barpolar"
           }
          ],
          "carpet": [
           {
            "aaxis": {
             "endlinecolor": "#2a3f5f",
             "gridcolor": "white",
             "linecolor": "white",
             "minorgridcolor": "white",
             "startlinecolor": "#2a3f5f"
            },
            "baxis": {
             "endlinecolor": "#2a3f5f",
             "gridcolor": "white",
             "linecolor": "white",
             "minorgridcolor": "white",
             "startlinecolor": "#2a3f5f"
            },
            "type": "carpet"
           }
          ],
          "choropleth": [
           {
            "colorbar": {
             "outlinewidth": 0,
             "ticks": ""
            },
            "type": "choropleth"
           }
          ],
          "contour": [
           {
            "colorbar": {
             "outlinewidth": 0,
             "ticks": ""
            },
            "colorscale": [
             [
              0,
              "#0d0887"
             ],
             [
              0.1111111111111111,
              "#46039f"
             ],
             [
              0.2222222222222222,
              "#7201a8"
             ],
             [
              0.3333333333333333,
              "#9c179e"
             ],
             [
              0.4444444444444444,
              "#bd3786"
             ],
             [
              0.5555555555555556,
              "#d8576b"
             ],
             [
              0.6666666666666666,
              "#ed7953"
             ],
             [
              0.7777777777777778,
              "#fb9f3a"
             ],
             [
              0.8888888888888888,
              "#fdca26"
             ],
             [
              1,
              "#f0f921"
             ]
            ],
            "type": "contour"
           }
          ],
          "contourcarpet": [
           {
            "colorbar": {
             "outlinewidth": 0,
             "ticks": ""
            },
            "type": "contourcarpet"
           }
          ],
          "heatmap": [
           {
            "colorbar": {
             "outlinewidth": 0,
             "ticks": ""
            },
            "colorscale": [
             [
              0,
              "#0d0887"
             ],
             [
              0.1111111111111111,
              "#46039f"
             ],
             [
              0.2222222222222222,
              "#7201a8"
             ],
             [
              0.3333333333333333,
              "#9c179e"
             ],
             [
              0.4444444444444444,
              "#bd3786"
             ],
             [
              0.5555555555555556,
              "#d8576b"
             ],
             [
              0.6666666666666666,
              "#ed7953"
             ],
             [
              0.7777777777777778,
              "#fb9f3a"
             ],
             [
              0.8888888888888888,
              "#fdca26"
             ],
             [
              1,
              "#f0f921"
             ]
            ],
            "type": "heatmap"
           }
          ],
          "heatmapgl": [
           {
            "colorbar": {
             "outlinewidth": 0,
             "ticks": ""
            },
            "colorscale": [
             [
              0,
              "#0d0887"
             ],
             [
              0.1111111111111111,
              "#46039f"
             ],
             [
              0.2222222222222222,
              "#7201a8"
             ],
             [
              0.3333333333333333,
              "#9c179e"
             ],
             [
              0.4444444444444444,
              "#bd3786"
             ],
             [
              0.5555555555555556,
              "#d8576b"
             ],
             [
              0.6666666666666666,
              "#ed7953"
             ],
             [
              0.7777777777777778,
              "#fb9f3a"
             ],
             [
              0.8888888888888888,
              "#fdca26"
             ],
             [
              1,
              "#f0f921"
             ]
            ],
            "type": "heatmapgl"
           }
          ],
          "histogram": [
           {
            "marker": {
             "pattern": {
              "fillmode": "overlay",
              "size": 10,
              "solidity": 0.2
             }
            },
            "type": "histogram"
           }
          ],
          "histogram2d": [
           {
            "colorbar": {
             "outlinewidth": 0,
             "ticks": ""
            },
            "colorscale": [
             [
              0,
              "#0d0887"
             ],
             [
              0.1111111111111111,
              "#46039f"
             ],
             [
              0.2222222222222222,
              "#7201a8"
             ],
             [
              0.3333333333333333,
              "#9c179e"
             ],
             [
              0.4444444444444444,
              "#bd3786"
             ],
             [
              0.5555555555555556,
              "#d8576b"
             ],
             [
              0.6666666666666666,
              "#ed7953"
             ],
             [
              0.7777777777777778,
              "#fb9f3a"
             ],
             [
              0.8888888888888888,
              "#fdca26"
             ],
             [
              1,
              "#f0f921"
             ]
            ],
            "type": "histogram2d"
           }
          ],
          "histogram2dcontour": [
           {
            "colorbar": {
             "outlinewidth": 0,
             "ticks": ""
            },
            "colorscale": [
             [
              0,
              "#0d0887"
             ],
             [
              0.1111111111111111,
              "#46039f"
             ],
             [
              0.2222222222222222,
              "#7201a8"
             ],
             [
              0.3333333333333333,
              "#9c179e"
             ],
             [
              0.4444444444444444,
              "#bd3786"
             ],
             [
              0.5555555555555556,
              "#d8576b"
             ],
             [
              0.6666666666666666,
              "#ed7953"
             ],
             [
              0.7777777777777778,
              "#fb9f3a"
             ],
             [
              0.8888888888888888,
              "#fdca26"
             ],
             [
              1,
              "#f0f921"
             ]
            ],
            "type": "histogram2dcontour"
           }
          ],
          "mesh3d": [
           {
            "colorbar": {
             "outlinewidth": 0,
             "ticks": ""
            },
            "type": "mesh3d"
           }
          ],
          "parcoords": [
           {
            "line": {
             "colorbar": {
              "outlinewidth": 0,
              "ticks": ""
             }
            },
            "type": "parcoords"
           }
          ],
          "pie": [
           {
            "automargin": true,
            "type": "pie"
           }
          ],
          "scatter": [
           {
            "marker": {
             "colorbar": {
              "outlinewidth": 0,
              "ticks": ""
             }
            },
            "type": "scatter"
           }
          ],
          "scatter3d": [
           {
            "line": {
             "colorbar": {
              "outlinewidth": 0,
              "ticks": ""
             }
            },
            "marker": {
             "colorbar": {
              "outlinewidth": 0,
              "ticks": ""
             }
            },
            "type": "scatter3d"
           }
          ],
          "scattercarpet": [
           {
            "marker": {
             "colorbar": {
              "outlinewidth": 0,
              "ticks": ""
             }
            },
            "type": "scattercarpet"
           }
          ],
          "scattergeo": [
           {
            "marker": {
             "colorbar": {
              "outlinewidth": 0,
              "ticks": ""
             }
            },
            "type": "scattergeo"
           }
          ],
          "scattergl": [
           {
            "marker": {
             "colorbar": {
              "outlinewidth": 0,
              "ticks": ""
             }
            },
            "type": "scattergl"
           }
          ],
          "scattermapbox": [
           {
            "marker": {
             "colorbar": {
              "outlinewidth": 0,
              "ticks": ""
             }
            },
            "type": "scattermapbox"
           }
          ],
          "scatterpolar": [
           {
            "marker": {
             "colorbar": {
              "outlinewidth": 0,
              "ticks": ""
             }
            },
            "type": "scatterpolar"
           }
          ],
          "scatterpolargl": [
           {
            "marker": {
             "colorbar": {
              "outlinewidth": 0,
              "ticks": ""
             }
            },
            "type": "scatterpolargl"
           }
          ],
          "scatterternary": [
           {
            "marker": {
             "colorbar": {
              "outlinewidth": 0,
              "ticks": ""
             }
            },
            "type": "scatterternary"
           }
          ],
          "surface": [
           {
            "colorbar": {
             "outlinewidth": 0,
             "ticks": ""
            },
            "colorscale": [
             [
              0,
              "#0d0887"
             ],
             [
              0.1111111111111111,
              "#46039f"
             ],
             [
              0.2222222222222222,
              "#7201a8"
             ],
             [
              0.3333333333333333,
              "#9c179e"
             ],
             [
              0.4444444444444444,
              "#bd3786"
             ],
             [
              0.5555555555555556,
              "#d8576b"
             ],
             [
              0.6666666666666666,
              "#ed7953"
             ],
             [
              0.7777777777777778,
              "#fb9f3a"
             ],
             [
              0.8888888888888888,
              "#fdca26"
             ],
             [
              1,
              "#f0f921"
             ]
            ],
            "type": "surface"
           }
          ],
          "table": [
           {
            "cells": {
             "fill": {
              "color": "#EBF0F8"
             },
             "line": {
              "color": "white"
             }
            },
            "header": {
             "fill": {
              "color": "#C8D4E3"
             },
             "line": {
              "color": "white"
             }
            },
            "type": "table"
           }
          ]
         },
         "layout": {
          "annotationdefaults": {
           "arrowcolor": "#2a3f5f",
           "arrowhead": 0,
           "arrowwidth": 1
          },
          "autotypenumbers": "strict",
          "coloraxis": {
           "colorbar": {
            "outlinewidth": 0,
            "ticks": ""
           }
          },
          "colorscale": {
           "diverging": [
            [
             0,
             "#8e0152"
            ],
            [
             0.1,
             "#c51b7d"
            ],
            [
             0.2,
             "#de77ae"
            ],
            [
             0.3,
             "#f1b6da"
            ],
            [
             0.4,
             "#fde0ef"
            ],
            [
             0.5,
             "#f7f7f7"
            ],
            [
             0.6,
             "#e6f5d0"
            ],
            [
             0.7,
             "#b8e186"
            ],
            [
             0.8,
             "#7fbc41"
            ],
            [
             0.9,
             "#4d9221"
            ],
            [
             1,
             "#276419"
            ]
           ],
           "sequential": [
            [
             0,
             "#0d0887"
            ],
            [
             0.1111111111111111,
             "#46039f"
            ],
            [
             0.2222222222222222,
             "#7201a8"
            ],
            [
             0.3333333333333333,
             "#9c179e"
            ],
            [
             0.4444444444444444,
             "#bd3786"
            ],
            [
             0.5555555555555556,
             "#d8576b"
            ],
            [
             0.6666666666666666,
             "#ed7953"
            ],
            [
             0.7777777777777778,
             "#fb9f3a"
            ],
            [
             0.8888888888888888,
             "#fdca26"
            ],
            [
             1,
             "#f0f921"
            ]
           ],
           "sequentialminus": [
            [
             0,
             "#0d0887"
            ],
            [
             0.1111111111111111,
             "#46039f"
            ],
            [
             0.2222222222222222,
             "#7201a8"
            ],
            [
             0.3333333333333333,
             "#9c179e"
            ],
            [
             0.4444444444444444,
             "#bd3786"
            ],
            [
             0.5555555555555556,
             "#d8576b"
            ],
            [
             0.6666666666666666,
             "#ed7953"
            ],
            [
             0.7777777777777778,
             "#fb9f3a"
            ],
            [
             0.8888888888888888,
             "#fdca26"
            ],
            [
             1,
             "#f0f921"
            ]
           ]
          },
          "colorway": [
           "#636efa",
           "#EF553B",
           "#00cc96",
           "#ab63fa",
           "#FFA15A",
           "#19d3f3",
           "#FF6692",
           "#B6E880",
           "#FF97FF",
           "#FECB52"
          ],
          "font": {
           "color": "#2a3f5f"
          },
          "geo": {
           "bgcolor": "white",
           "lakecolor": "white",
           "landcolor": "#E5ECF6",
           "showlakes": true,
           "showland": true,
           "subunitcolor": "white"
          },
          "hoverlabel": {
           "align": "left"
          },
          "hovermode": "closest",
          "mapbox": {
           "style": "light"
          },
          "paper_bgcolor": "white",
          "plot_bgcolor": "#E5ECF6",
          "polar": {
           "angularaxis": {
            "gridcolor": "white",
            "linecolor": "white",
            "ticks": ""
           },
           "bgcolor": "#E5ECF6",
           "radialaxis": {
            "gridcolor": "white",
            "linecolor": "white",
            "ticks": ""
           }
          },
          "scene": {
           "xaxis": {
            "backgroundcolor": "#E5ECF6",
            "gridcolor": "white",
            "gridwidth": 2,
            "linecolor": "white",
            "showbackground": true,
            "ticks": "",
            "zerolinecolor": "white"
           },
           "yaxis": {
            "backgroundcolor": "#E5ECF6",
            "gridcolor": "white",
            "gridwidth": 2,
            "linecolor": "white",
            "showbackground": true,
            "ticks": "",
            "zerolinecolor": "white"
           },
           "zaxis": {
            "backgroundcolor": "#E5ECF6",
            "gridcolor": "white",
            "gridwidth": 2,
            "linecolor": "white",
            "showbackground": true,
            "ticks": "",
            "zerolinecolor": "white"
           }
          },
          "shapedefaults": {
           "line": {
            "color": "#2a3f5f"
           }
          },
          "ternary": {
           "aaxis": {
            "gridcolor": "white",
            "linecolor": "white",
            "ticks": ""
           },
           "baxis": {
            "gridcolor": "white",
            "linecolor": "white",
            "ticks": ""
           },
           "bgcolor": "#E5ECF6",
           "caxis": {
            "gridcolor": "white",
            "linecolor": "white",
            "ticks": ""
           }
          },
          "title": {
           "x": 0.05
          },
          "xaxis": {
           "automargin": true,
           "gridcolor": "white",
           "linecolor": "white",
           "ticks": "",
           "title": {
            "standoff": 15
           },
           "zerolinecolor": "white",
           "zerolinewidth": 2
          },
          "yaxis": {
           "automargin": true,
           "gridcolor": "white",
           "linecolor": "white",
           "ticks": "",
           "title": {
            "standoff": 15
           },
           "zerolinecolor": "white",
           "zerolinewidth": 2
          }
         }
        },
        "title": {
         "text": "Profits"
        },
        "xaxis": {
         "showspikes": true,
         "title": {
          "text": "Date"
         }
        },
        "yaxis": {
         "showspikes": true,
         "title": {
          "text": "Capital"
         }
        }
       }
      }
     },
     "metadata": {},
     "output_type": "display_data"
    }
   ],
   "source": [
    "vs.plotly_graph(x=data['Close'], y=data['profit_acm'], title=\"Profits\", x_label='Date', y_label=\"Capital\")"
   ]
  },
  {
   "cell_type": "markdown",
   "metadata": {},
   "source": [
    "Most of the profits were on EUR_USD, while GBP_USD accounted for losses in the portfolio:"
   ]
  },
  {
   "cell_type": "code",
   "execution_count": 21,
   "metadata": {},
   "outputs": [
    {
     "data": {
      "application/vnd.plotly.v1+json": {
       "config": {
        "plotlyServerURL": "https://plot.ly"
       },
       "data": [
        {
         "alignmentgroup": "True",
         "bingroup": "x",
         "histfunc": "sum",
         "hovertemplate": "color=USDMXN<br>x=%{x}<br>sum of y=%{y}<extra></extra>",
         "legendgroup": "USDMXN",
         "marker": {
          "color": "#636efa",
          "pattern": {
           "shape": ""
          }
         },
         "name": "USDMXN",
         "offsetgroup": "USDMXN",
         "orientation": "v",
         "showlegend": true,
         "type": "histogram",
         "x": [
          "USDMXN",
          "USDMXN",
          "USDMXN",
          "USDMXN",
          "USDMXN",
          "USDMXN",
          "USDMXN",
          "USDMXN",
          "USDMXN",
          "USDMXN",
          "USDMXN",
          "USDMXN",
          "USDMXN",
          "USDMXN",
          "USDMXN",
          "USDMXN",
          "USDMXN",
          "USDMXN",
          "USDMXN",
          "USDMXN",
          "USDMXN",
          "USDMXN",
          "USDMXN"
         ],
         "xaxis": "x",
         "y": [
          -1.02,
          -0.89,
          -0.6,
          -0.61,
          -0.52,
          -0.52,
          0.2,
          -0.43,
          0.32,
          0.21,
          -0.37,
          0.01,
          19.37,
          1.87,
          1.87,
          1.93,
          1.89,
          1.86,
          2.55,
          2.56,
          2.38,
          2.37,
          2.28
         ],
         "yaxis": "y"
        },
        {
         "alignmentgroup": "True",
         "bingroup": "x",
         "histfunc": "sum",
         "hovertemplate": "color=EURUSD<br>x=%{x}<br>sum of y=%{y}<extra></extra>",
         "legendgroup": "EURUSD",
         "marker": {
          "color": "#EF553B",
          "pattern": {
           "shape": ""
          }
         },
         "name": "EURUSD",
         "offsetgroup": "EURUSD",
         "orientation": "v",
         "showlegend": true,
         "type": "histogram",
         "x": [
          "EURUSD",
          "EURUSD",
          "EURUSD",
          "EURUSD",
          "EURUSD",
          "EURUSD",
          "EURUSD",
          "EURUSD",
          "EURUSD",
          "EURUSD",
          "EURUSD",
          "EURUSD",
          "EURUSD",
          "EURUSD",
          "EURUSD",
          "EURUSD",
          "EURUSD",
          "EURUSD",
          "EURUSD",
          "EURUSD",
          "EURUSD",
          "EURUSD",
          "EURUSD",
          "EURUSD",
          "EURUSD",
          "EURUSD",
          "EURUSD",
          "EURUSD",
          "EURUSD",
          "EURUSD",
          "EURUSD",
          "EURUSD",
          "EURUSD",
          "EURUSD",
          "EURUSD",
          "EURUSD",
          "EURUSD",
          "EURUSD",
          "EURUSD",
          "EURUSD",
          "EURUSD",
          "EURUSD",
          "EURUSD",
          "EURUSD",
          "EURUSD",
          "EURUSD",
          "EURUSD",
          "EURUSD",
          "EURUSD",
          "EURUSD",
          "EURUSD",
          "EURUSD",
          "EURUSD"
         ],
         "xaxis": "x",
         "y": [
          1.21,
          1.33,
          1.41,
          1.31,
          1.33,
          1.34,
          1.34,
          1.3,
          1.3,
          1.31,
          0.27,
          0.32,
          0.26,
          0.37,
          0.37,
          0.38,
          0.41,
          0.13,
          0.11,
          0.11,
          0.1,
          0.16,
          0.23,
          0.25,
          0.25,
          0.31,
          0.33,
          0.32,
          0.31,
          2.34,
          1.82,
          4.03,
          3.9,
          3.38,
          3.51,
          3.12,
          1.04,
          1.17,
          332.88,
          0.21,
          0.18,
          0.16,
          0.2,
          0.2,
          0.21,
          0.19,
          0.16,
          0.17,
          -1.62,
          -1.67,
          -1.5,
          -1.49,
          -1.46
         ],
         "yaxis": "y"
        },
        {
         "alignmentgroup": "True",
         "bingroup": "x",
         "histfunc": "sum",
         "hovertemplate": "color=GBPUSD<br>x=%{x}<br>sum of y=%{y}<extra></extra>",
         "legendgroup": "GBPUSD",
         "marker": {
          "color": "#00cc96",
          "pattern": {
           "shape": ""
          }
         },
         "name": "GBPUSD",
         "offsetgroup": "GBPUSD",
         "orientation": "v",
         "showlegend": true,
         "type": "histogram",
         "x": [
          "GBPUSD",
          "GBPUSD",
          "GBPUSD",
          "GBPUSD"
         ],
         "xaxis": "x",
         "y": [
          -49.05,
          -9.77,
          -9.9,
          -20.14
         ],
         "yaxis": "y"
        }
       ],
       "layout": {
        "barmode": "relative",
        "legend": {
         "title": {
          "text": "color"
         },
         "tracegroupgap": 0
        },
        "template": {
         "data": {
          "bar": [
           {
            "error_x": {
             "color": "#2a3f5f"
            },
            "error_y": {
             "color": "#2a3f5f"
            },
            "marker": {
             "line": {
              "color": "#E5ECF6",
              "width": 0.5
             },
             "pattern": {
              "fillmode": "overlay",
              "size": 10,
              "solidity": 0.2
             }
            },
            "type": "bar"
           }
          ],
          "barpolar": [
           {
            "marker": {
             "line": {
              "color": "#E5ECF6",
              "width": 0.5
             },
             "pattern": {
              "fillmode": "overlay",
              "size": 10,
              "solidity": 0.2
             }
            },
            "type": "barpolar"
           }
          ],
          "carpet": [
           {
            "aaxis": {
             "endlinecolor": "#2a3f5f",
             "gridcolor": "white",
             "linecolor": "white",
             "minorgridcolor": "white",
             "startlinecolor": "#2a3f5f"
            },
            "baxis": {
             "endlinecolor": "#2a3f5f",
             "gridcolor": "white",
             "linecolor": "white",
             "minorgridcolor": "white",
             "startlinecolor": "#2a3f5f"
            },
            "type": "carpet"
           }
          ],
          "choropleth": [
           {
            "colorbar": {
             "outlinewidth": 0,
             "ticks": ""
            },
            "type": "choropleth"
           }
          ],
          "contour": [
           {
            "colorbar": {
             "outlinewidth": 0,
             "ticks": ""
            },
            "colorscale": [
             [
              0,
              "#0d0887"
             ],
             [
              0.1111111111111111,
              "#46039f"
             ],
             [
              0.2222222222222222,
              "#7201a8"
             ],
             [
              0.3333333333333333,
              "#9c179e"
             ],
             [
              0.4444444444444444,
              "#bd3786"
             ],
             [
              0.5555555555555556,
              "#d8576b"
             ],
             [
              0.6666666666666666,
              "#ed7953"
             ],
             [
              0.7777777777777778,
              "#fb9f3a"
             ],
             [
              0.8888888888888888,
              "#fdca26"
             ],
             [
              1,
              "#f0f921"
             ]
            ],
            "type": "contour"
           }
          ],
          "contourcarpet": [
           {
            "colorbar": {
             "outlinewidth": 0,
             "ticks": ""
            },
            "type": "contourcarpet"
           }
          ],
          "heatmap": [
           {
            "colorbar": {
             "outlinewidth": 0,
             "ticks": ""
            },
            "colorscale": [
             [
              0,
              "#0d0887"
             ],
             [
              0.1111111111111111,
              "#46039f"
             ],
             [
              0.2222222222222222,
              "#7201a8"
             ],
             [
              0.3333333333333333,
              "#9c179e"
             ],
             [
              0.4444444444444444,
              "#bd3786"
             ],
             [
              0.5555555555555556,
              "#d8576b"
             ],
             [
              0.6666666666666666,
              "#ed7953"
             ],
             [
              0.7777777777777778,
              "#fb9f3a"
             ],
             [
              0.8888888888888888,
              "#fdca26"
             ],
             [
              1,
              "#f0f921"
             ]
            ],
            "type": "heatmap"
           }
          ],
          "heatmapgl": [
           {
            "colorbar": {
             "outlinewidth": 0,
             "ticks": ""
            },
            "colorscale": [
             [
              0,
              "#0d0887"
             ],
             [
              0.1111111111111111,
              "#46039f"
             ],
             [
              0.2222222222222222,
              "#7201a8"
             ],
             [
              0.3333333333333333,
              "#9c179e"
             ],
             [
              0.4444444444444444,
              "#bd3786"
             ],
             [
              0.5555555555555556,
              "#d8576b"
             ],
             [
              0.6666666666666666,
              "#ed7953"
             ],
             [
              0.7777777777777778,
              "#fb9f3a"
             ],
             [
              0.8888888888888888,
              "#fdca26"
             ],
             [
              1,
              "#f0f921"
             ]
            ],
            "type": "heatmapgl"
           }
          ],
          "histogram": [
           {
            "marker": {
             "pattern": {
              "fillmode": "overlay",
              "size": 10,
              "solidity": 0.2
             }
            },
            "type": "histogram"
           }
          ],
          "histogram2d": [
           {
            "colorbar": {
             "outlinewidth": 0,
             "ticks": ""
            },
            "colorscale": [
             [
              0,
              "#0d0887"
             ],
             [
              0.1111111111111111,
              "#46039f"
             ],
             [
              0.2222222222222222,
              "#7201a8"
             ],
             [
              0.3333333333333333,
              "#9c179e"
             ],
             [
              0.4444444444444444,
              "#bd3786"
             ],
             [
              0.5555555555555556,
              "#d8576b"
             ],
             [
              0.6666666666666666,
              "#ed7953"
             ],
             [
              0.7777777777777778,
              "#fb9f3a"
             ],
             [
              0.8888888888888888,
              "#fdca26"
             ],
             [
              1,
              "#f0f921"
             ]
            ],
            "type": "histogram2d"
           }
          ],
          "histogram2dcontour": [
           {
            "colorbar": {
             "outlinewidth": 0,
             "ticks": ""
            },
            "colorscale": [
             [
              0,
              "#0d0887"
             ],
             [
              0.1111111111111111,
              "#46039f"
             ],
             [
              0.2222222222222222,
              "#7201a8"
             ],
             [
              0.3333333333333333,
              "#9c179e"
             ],
             [
              0.4444444444444444,
              "#bd3786"
             ],
             [
              0.5555555555555556,
              "#d8576b"
             ],
             [
              0.6666666666666666,
              "#ed7953"
             ],
             [
              0.7777777777777778,
              "#fb9f3a"
             ],
             [
              0.8888888888888888,
              "#fdca26"
             ],
             [
              1,
              "#f0f921"
             ]
            ],
            "type": "histogram2dcontour"
           }
          ],
          "mesh3d": [
           {
            "colorbar": {
             "outlinewidth": 0,
             "ticks": ""
            },
            "type": "mesh3d"
           }
          ],
          "parcoords": [
           {
            "line": {
             "colorbar": {
              "outlinewidth": 0,
              "ticks": ""
             }
            },
            "type": "parcoords"
           }
          ],
          "pie": [
           {
            "automargin": true,
            "type": "pie"
           }
          ],
          "scatter": [
           {
            "marker": {
             "colorbar": {
              "outlinewidth": 0,
              "ticks": ""
             }
            },
            "type": "scatter"
           }
          ],
          "scatter3d": [
           {
            "line": {
             "colorbar": {
              "outlinewidth": 0,
              "ticks": ""
             }
            },
            "marker": {
             "colorbar": {
              "outlinewidth": 0,
              "ticks": ""
             }
            },
            "type": "scatter3d"
           }
          ],
          "scattercarpet": [
           {
            "marker": {
             "colorbar": {
              "outlinewidth": 0,
              "ticks": ""
             }
            },
            "type": "scattercarpet"
           }
          ],
          "scattergeo": [
           {
            "marker": {
             "colorbar": {
              "outlinewidth": 0,
              "ticks": ""
             }
            },
            "type": "scattergeo"
           }
          ],
          "scattergl": [
           {
            "marker": {
             "colorbar": {
              "outlinewidth": 0,
              "ticks": ""
             }
            },
            "type": "scattergl"
           }
          ],
          "scattermapbox": [
           {
            "marker": {
             "colorbar": {
              "outlinewidth": 0,
              "ticks": ""
             }
            },
            "type": "scattermapbox"
           }
          ],
          "scatterpolar": [
           {
            "marker": {
             "colorbar": {
              "outlinewidth": 0,
              "ticks": ""
             }
            },
            "type": "scatterpolar"
           }
          ],
          "scatterpolargl": [
           {
            "marker": {
             "colorbar": {
              "outlinewidth": 0,
              "ticks": ""
             }
            },
            "type": "scatterpolargl"
           }
          ],
          "scatterternary": [
           {
            "marker": {
             "colorbar": {
              "outlinewidth": 0,
              "ticks": ""
             }
            },
            "type": "scatterternary"
           }
          ],
          "surface": [
           {
            "colorbar": {
             "outlinewidth": 0,
             "ticks": ""
            },
            "colorscale": [
             [
              0,
              "#0d0887"
             ],
             [
              0.1111111111111111,
              "#46039f"
             ],
             [
              0.2222222222222222,
              "#7201a8"
             ],
             [
              0.3333333333333333,
              "#9c179e"
             ],
             [
              0.4444444444444444,
              "#bd3786"
             ],
             [
              0.5555555555555556,
              "#d8576b"
             ],
             [
              0.6666666666666666,
              "#ed7953"
             ],
             [
              0.7777777777777778,
              "#fb9f3a"
             ],
             [
              0.8888888888888888,
              "#fdca26"
             ],
             [
              1,
              "#f0f921"
             ]
            ],
            "type": "surface"
           }
          ],
          "table": [
           {
            "cells": {
             "fill": {
              "color": "#EBF0F8"
             },
             "line": {
              "color": "white"
             }
            },
            "header": {
             "fill": {
              "color": "#C8D4E3"
             },
             "line": {
              "color": "white"
             }
            },
            "type": "table"
           }
          ]
         },
         "layout": {
          "annotationdefaults": {
           "arrowcolor": "#2a3f5f",
           "arrowhead": 0,
           "arrowwidth": 1
          },
          "autotypenumbers": "strict",
          "coloraxis": {
           "colorbar": {
            "outlinewidth": 0,
            "ticks": ""
           }
          },
          "colorscale": {
           "diverging": [
            [
             0,
             "#8e0152"
            ],
            [
             0.1,
             "#c51b7d"
            ],
            [
             0.2,
             "#de77ae"
            ],
            [
             0.3,
             "#f1b6da"
            ],
            [
             0.4,
             "#fde0ef"
            ],
            [
             0.5,
             "#f7f7f7"
            ],
            [
             0.6,
             "#e6f5d0"
            ],
            [
             0.7,
             "#b8e186"
            ],
            [
             0.8,
             "#7fbc41"
            ],
            [
             0.9,
             "#4d9221"
            ],
            [
             1,
             "#276419"
            ]
           ],
           "sequential": [
            [
             0,
             "#0d0887"
            ],
            [
             0.1111111111111111,
             "#46039f"
            ],
            [
             0.2222222222222222,
             "#7201a8"
            ],
            [
             0.3333333333333333,
             "#9c179e"
            ],
            [
             0.4444444444444444,
             "#bd3786"
            ],
            [
             0.5555555555555556,
             "#d8576b"
            ],
            [
             0.6666666666666666,
             "#ed7953"
            ],
            [
             0.7777777777777778,
             "#fb9f3a"
            ],
            [
             0.8888888888888888,
             "#fdca26"
            ],
            [
             1,
             "#f0f921"
            ]
           ],
           "sequentialminus": [
            [
             0,
             "#0d0887"
            ],
            [
             0.1111111111111111,
             "#46039f"
            ],
            [
             0.2222222222222222,
             "#7201a8"
            ],
            [
             0.3333333333333333,
             "#9c179e"
            ],
            [
             0.4444444444444444,
             "#bd3786"
            ],
            [
             0.5555555555555556,
             "#d8576b"
            ],
            [
             0.6666666666666666,
             "#ed7953"
            ],
            [
             0.7777777777777778,
             "#fb9f3a"
            ],
            [
             0.8888888888888888,
             "#fdca26"
            ],
            [
             1,
             "#f0f921"
            ]
           ]
          },
          "colorway": [
           "#636efa",
           "#EF553B",
           "#00cc96",
           "#ab63fa",
           "#FFA15A",
           "#19d3f3",
           "#FF6692",
           "#B6E880",
           "#FF97FF",
           "#FECB52"
          ],
          "font": {
           "color": "#2a3f5f"
          },
          "geo": {
           "bgcolor": "white",
           "lakecolor": "white",
           "landcolor": "#E5ECF6",
           "showlakes": true,
           "showland": true,
           "subunitcolor": "white"
          },
          "hoverlabel": {
           "align": "left"
          },
          "hovermode": "closest",
          "mapbox": {
           "style": "light"
          },
          "paper_bgcolor": "white",
          "plot_bgcolor": "#E5ECF6",
          "polar": {
           "angularaxis": {
            "gridcolor": "white",
            "linecolor": "white",
            "ticks": ""
           },
           "bgcolor": "#E5ECF6",
           "radialaxis": {
            "gridcolor": "white",
            "linecolor": "white",
            "ticks": ""
           }
          },
          "scene": {
           "xaxis": {
            "backgroundcolor": "#E5ECF6",
            "gridcolor": "white",
            "gridwidth": 2,
            "linecolor": "white",
            "showbackground": true,
            "ticks": "",
            "zerolinecolor": "white"
           },
           "yaxis": {
            "backgroundcolor": "#E5ECF6",
            "gridcolor": "white",
            "gridwidth": 2,
            "linecolor": "white",
            "showbackground": true,
            "ticks": "",
            "zerolinecolor": "white"
           },
           "zaxis": {
            "backgroundcolor": "#E5ECF6",
            "gridcolor": "white",
            "gridwidth": 2,
            "linecolor": "white",
            "showbackground": true,
            "ticks": "",
            "zerolinecolor": "white"
           }
          },
          "shapedefaults": {
           "line": {
            "color": "#2a3f5f"
           }
          },
          "ternary": {
           "aaxis": {
            "gridcolor": "white",
            "linecolor": "white",
            "ticks": ""
           },
           "baxis": {
            "gridcolor": "white",
            "linecolor": "white",
            "ticks": ""
           },
           "bgcolor": "#E5ECF6",
           "caxis": {
            "gridcolor": "white",
            "linecolor": "white",
            "ticks": ""
           }
          },
          "title": {
           "x": 0.05
          },
          "xaxis": {
           "automargin": true,
           "gridcolor": "white",
           "linecolor": "white",
           "ticks": "",
           "title": {
            "standoff": 15
           },
           "zerolinecolor": "white",
           "zerolinewidth": 2
          },
          "yaxis": {
           "automargin": true,
           "gridcolor": "white",
           "linecolor": "white",
           "ticks": "",
           "title": {
            "standoff": 15
           },
           "zerolinecolor": "white",
           "zerolinewidth": 2
          }
         }
        },
        "title": {
         "text": "Profits"
        },
        "xaxis": {
         "anchor": "y",
         "categoryorder": "total descending",
         "domain": [
          0,
          1
         ],
         "title": {
          "text": "Símbolo"
         }
        },
        "yaxis": {
         "anchor": "x",
         "domain": [
          0,
          1
         ],
         "tickfont": {
          "size": 9
         },
         "title": {
          "text": "Beneficio"
         }
        }
       }
      }
     },
     "metadata": {},
     "output_type": "display_data"
    }
   ],
   "source": [
    "Pi=data[['Símbolo', 'Beneficio']]\n",
    "vs.hist_csv(Pi, 'Profits', 'Símbolo', 'Beneficio')"
   ]
  },
  {
   "cell_type": "markdown",
   "metadata": {},
   "source": [
    "<font color= lightblue> <font size = 2> 1.5 Statistics Column: </font>\n",
    "\n",
    "\n",
    "<font color= gray>"
   ]
  },
  {
   "cell_type": "markdown",
   "metadata": {},
   "source": [
    "### <font color= lightblue> <font size = 4> 3. Bibliography: </font>\n",
    "\n",
    "<font color= gray>\n",
    "\n",
    "Villalobos, O, 2021. Python Project Template. https://github.com/OmarVillalobos/python-project."
   ]
  }
 ],
 "metadata": {
  "kernelspec": {
   "display_name": "base",
   "language": "python",
   "name": "python3"
  },
  "language_info": {
   "codemirror_mode": {
    "name": "ipython",
    "version": 3
   },
   "file_extension": ".py",
   "mimetype": "text/x-python",
   "name": "python",
   "nbconvert_exporter": "python",
   "pygments_lexer": "ipython3",
   "version": "3.8.13"
  },
  "toc": {
   "base_numbering": 1,
   "nav_menu": {},
   "number_sections": true,
   "sideBar": true,
   "skip_h1_title": false,
   "title_cell": "Table of Contents",
   "title_sidebar": "Contents",
   "toc_cell": false,
   "toc_position": {},
   "toc_section_display": true,
   "toc_window_display": false
  },
  "vscode": {
   "interpreter": {
    "hash": "ad2bdc8ecc057115af97d19610ffacc2b4e99fae6737bb82f5d7fb13d2f2c186"
   }
  }
 },
 "nbformat": 4,
 "nbformat_minor": 2
}
