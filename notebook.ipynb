{
 "cells": [
  {
   "cell_type": "markdown",
   "metadata": {},
   "source": [
    "\n",
    "    \n",
    "    \n",
    "## <H2 align=\"center\"> <font color='white'> **MAF1731B**: Microstructure and Trading Systems </H2>\n",
    "\n",
    "### <H3 align=\"center\"> <font color='white'> **Laboratory 3**: Behavioral Finance </H3>\n",
    "\n",
    " <H5 align=\"center\"> <em> Professor: Villalobos Ramos Omar Antonio <em>\n",
    "\n",
    " <p align=\"center\"> <img style=\" margin: 30px 15px 15px 15px;\" src=\"https://pngimage.net/wp-content/uploads/2018/06/logo-iteso-png-5.png\" width=\"350\" height=\"150\" /> \n",
    "\n",
    " <strong> <H5 align=\"right\"> Student: Márquez Delgado Esteban <strong>\n",
    "\n",
    " *Registry*: if700637\n",
    "\n",
    " <center> <font color= #555555> <font size = 4> September 2022 </a> | <font color= #555555> <font size = 4> Repository: <a href='https://github.com/EstebanMqz/MS_Lab3_Marquez-Delgado-Esteban'>Link</a></font>"
   ]
  },
  {
   "cell_type": "markdown",
   "metadata": {},
   "source": [
    "<hr style=\"border:0.02in solid gray\"> </hr>"
   ]
  },
  {
   "cell_type": "markdown",
   "metadata": {},
   "source": [
    "<center> <font color= #555555> <font size = 6> Laboratory 3 </font> <br> <br> <font color= #555555> <font size = 5> Behavioral Finance  </font>"
   ]
  },
  {
   "cell_type": "markdown",
   "metadata": {},
   "source": [
    "<hr style=\"border:0.02in solid gray\"> </hr>"
   ]
  },
  {
   "cell_type": "markdown",
   "metadata": {},
   "source": [
    "### <font color= #555555> <font size = 4> Abstract </font>"
   ]
  },
  {
   "cell_type": "markdown",
   "metadata": {},
   "source": [
    "This document was prepared by Esteban Márquez Delgado as delivery for Laboratory 3 of Microstructure and Trading Systems - MAF1731B class during the Autumn 2022 course at ITESO for the Bachelor of Financial Engineering. Its objective relies on the analysis of past trading history (developed in Forex via MT5 in Lab 2) from the trader perspective divided into 3 sections (including visualizations):\n",
    "\n",
    "1. **Descriptive Statistics:** Functions that prepare the preprocessing of the data as well as generic calculations and a ranking table.\n",
    "2. **Performance Attribution Measures:** Performance measures like Sharpe's Ratio and Drawdown/Drawup.\n",
    "3. **Behavioral Finance:** Determination of the presence and quantification of the cognitive bias disposition effect."
   ]
  },
  {
   "cell_type": "markdown",
   "metadata": {},
   "source": [
    "### <font color= lightblue> <font size = 4> 0. Libraries and Dependencies: </font>\n",
    "\n",
    "<font color= gray>\n",
    "\n",
    "**Note**: To run this notebook it is necessary to have the following libraries contained in the [requirements.txt](https://github.com/EstebanMqz/MS_Lab1_Marquez-Delgado-Esteban/blob/main/requirements.txt) script of this project.\n",
    "\n",
    "To install the libraries in the script run the following cell:"
   ]
  },
  {
   "cell_type": "code",
   "execution_count": 1,
   "metadata": {},
   "outputs": [
    {
     "name": "stdout",
     "output_type": "stream",
     "text": [
      "Requirement already satisfied: 7 in c:\\programdata\\anaconda3\\lib\\site-packages (from -r requirements.txt (line 1)) (0.0.0)\n",
      "Requirement already satisfied: pandas>=1.3.4 in c:\\programdata\\anaconda3\\lib\\site-packages (from -r requirements.txt (line 10)) (1.4.4)\n",
      "Requirement already satisfied: numpy>=1.19.1 in c:\\programdata\\anaconda3\\lib\\site-packages (from -r requirements.txt (line 11)) (1.21.5)\n",
      "Requirement already satisfied: jupyter>=1.0.0 in c:\\programdata\\anaconda3\\lib\\site-packages (from -r requirements.txt (line 12)) (1.0.0)\n",
      "Requirement already satisfied: chart_studio>=1.1 in c:\\programdata\\anaconda3\\lib\\site-packages (from -r requirements.txt (line 13)) (1.1.0)\n",
      "Requirement already satisfied: plotly>=4.14 in c:\\programdata\\anaconda3\\lib\\site-packages (from -r requirements.txt (line 14)) (5.6.0)\n",
      "Requirement already satisfied: pandas_datareader>=0.10.0 in c:\\programdata\\anaconda3\\lib\\site-packages (from -r requirements.txt (line 15)) (0.10.0)\n",
      "Requirement already satisfied: tk>=0.1.0 in c:\\programdata\\anaconda3\\lib\\site-packages (from -r requirements.txt (line 16)) (0.1.0)\n",
      "Requirement already satisfied: yahoofinancials>=1.6 in c:\\programdata\\anaconda3\\lib\\site-packages (from -r requirements.txt (line 18)) (1.6)\n",
      "Requirement already satisfied: scipy>=1.7.3 in c:\\programdata\\anaconda3\\lib\\site-packages (from -r requirements.txt (line 19)) (1.7.3)\n",
      "Requirement already satisfied: regex>=2022.3.15 in c:\\programdata\\anaconda3\\lib\\site-packages (from -r requirements.txt (line 20)) (2022.3.15)\n",
      "Requirement already satisfied: matplotlib>=3.5.1 in c:\\programdata\\anaconda3\\lib\\site-packages (from -r requirements.txt (line 21)) (3.5.3)\n",
      "Requirement already satisfied: fire>=0.4.0 in c:\\programdata\\anaconda3\\lib\\site-packages (from -r requirements.txt (line 22)) (0.4.0)\n",
      "Requirement already satisfied: python-dateutil>=2.8.1 in c:\\programdata\\anaconda3\\lib\\site-packages (from pandas>=1.3.4->-r requirements.txt (line 10)) (2.8.2)\n",
      "Requirement already satisfied: pytz>=2020.1 in c:\\programdata\\anaconda3\\lib\\site-packages (from pandas>=1.3.4->-r requirements.txt (line 10)) (2021.3)\n",
      "Requirement already satisfied: ipywidgets in c:\\programdata\\anaconda3\\lib\\site-packages (from jupyter>=1.0.0->-r requirements.txt (line 12)) (7.6.5)\n",
      "Requirement already satisfied: jupyter-console in c:\\programdata\\anaconda3\\lib\\site-packages (from jupyter>=1.0.0->-r requirements.txt (line 12)) (6.4.0)\n",
      "Requirement already satisfied: qtconsole in c:\\programdata\\anaconda3\\lib\\site-packages (from jupyter>=1.0.0->-r requirements.txt (line 12)) (5.3.0)\n",
      "Requirement already satisfied: ipykernel in c:\\programdata\\anaconda3\\lib\\site-packages (from jupyter>=1.0.0->-r requirements.txt (line 12)) (6.9.1)\n",
      "Requirement already satisfied: nbconvert in c:\\programdata\\anaconda3\\lib\\site-packages (from jupyter>=1.0.0->-r requirements.txt (line 12)) (6.4.4)\n",
      "Requirement already satisfied: notebook in c:\\programdata\\anaconda3\\lib\\site-packages (from jupyter>=1.0.0->-r requirements.txt (line 12)) (6.4.8)\n",
      "Requirement already satisfied: six in c:\\programdata\\anaconda3\\lib\\site-packages (from chart_studio>=1.1->-r requirements.txt (line 13)) (1.16.0)\n",
      "Requirement already satisfied: retrying>=1.3.3 in c:\\programdata\\anaconda3\\lib\\site-packages (from chart_studio>=1.1->-r requirements.txt (line 13)) (1.3.3)\n",
      "Requirement already satisfied: requests in c:\\programdata\\anaconda3\\lib\\site-packages (from chart_studio>=1.1->-r requirements.txt (line 13)) (2.28.1)\n",
      "Requirement already satisfied: tenacity>=6.2.0 in c:\\programdata\\anaconda3\\lib\\site-packages (from plotly>=4.14->-r requirements.txt (line 14)) (8.0.1)\n",
      "Requirement already satisfied: lxml in c:\\programdata\\anaconda3\\lib\\site-packages (from pandas_datareader>=0.10.0->-r requirements.txt (line 15)) (4.8.0)\n",
      "Requirement already satisfied: beautifulsoup4 in c:\\programdata\\anaconda3\\lib\\site-packages (from yahoofinancials>=1.6->-r requirements.txt (line 18)) (4.11.1)\n",
      "Requirement already satisfied: fonttools>=4.22.0 in c:\\programdata\\anaconda3\\lib\\site-packages (from matplotlib>=3.5.1->-r requirements.txt (line 21)) (4.25.0)\n",
      "Requirement already satisfied: pillow>=6.2.0 in c:\\programdata\\anaconda3\\lib\\site-packages (from matplotlib>=3.5.1->-r requirements.txt (line 21)) (9.0.1)\n",
      "Requirement already satisfied: pyparsing>=2.2.1 in c:\\programdata\\anaconda3\\lib\\site-packages (from matplotlib>=3.5.1->-r requirements.txt (line 21)) (3.0.4)\n",
      "Requirement already satisfied: packaging>=20.0 in c:\\programdata\\anaconda3\\lib\\site-packages (from matplotlib>=3.5.1->-r requirements.txt (line 21)) (21.3)\n",
      "Requirement already satisfied: kiwisolver>=1.0.1 in c:\\programdata\\anaconda3\\lib\\site-packages (from matplotlib>=3.5.1->-r requirements.txt (line 21)) (1.3.2)\n",
      "Requirement already satisfied: cycler>=0.10 in c:\\programdata\\anaconda3\\lib\\site-packages (from matplotlib>=3.5.1->-r requirements.txt (line 21)) (0.11.0)\n",
      "Requirement already satisfied: termcolor in c:\\programdata\\anaconda3\\lib\\site-packages (from fire>=0.4.0->-r requirements.txt (line 22)) (1.1.0)\n",
      "Requirement already satisfied: idna<4,>=2.5 in c:\\programdata\\anaconda3\\lib\\site-packages (from requests->chart_studio>=1.1->-r requirements.txt (line 13)) (3.3)\n",
      "Requirement already satisfied: charset-normalizer<3,>=2 in c:\\programdata\\anaconda3\\lib\\site-packages (from requests->chart_studio>=1.1->-r requirements.txt (line 13)) (2.0.4)\n",
      "Requirement already satisfied: urllib3<1.27,>=1.21.1 in c:\\programdata\\anaconda3\\lib\\site-packages (from requests->chart_studio>=1.1->-r requirements.txt (line 13)) (1.26.9)\n",
      "Requirement already satisfied: certifi>=2017.4.17 in c:\\programdata\\anaconda3\\lib\\site-packages (from requests->chart_studio>=1.1->-r requirements.txt (line 13)) (2021.10.8)\n",
      "Requirement already satisfied: soupsieve>1.2 in c:\\programdata\\anaconda3\\lib\\site-packages (from beautifulsoup4->yahoofinancials>=1.6->-r requirements.txt (line 18)) (2.3.1)\n",
      "Requirement already satisfied: ipython>=7.23.1 in c:\\programdata\\anaconda3\\lib\\site-packages (from ipykernel->jupyter>=1.0.0->-r requirements.txt (line 12)) (8.2.0)\n",
      "Requirement already satisfied: tornado<7.0,>=4.2 in c:\\programdata\\anaconda3\\lib\\site-packages (from ipykernel->jupyter>=1.0.0->-r requirements.txt (line 12)) (6.1)\n",
      "Requirement already satisfied: matplotlib-inline<0.2.0,>=0.1.0 in c:\\programdata\\anaconda3\\lib\\site-packages (from ipykernel->jupyter>=1.0.0->-r requirements.txt (line 12)) (0.1.2)\n",
      "Requirement already satisfied: nest-asyncio in c:\\programdata\\anaconda3\\lib\\site-packages (from ipykernel->jupyter>=1.0.0->-r requirements.txt (line 12)) (1.5.5)\n",
      "Requirement already satisfied: debugpy<2.0,>=1.0.0 in c:\\programdata\\anaconda3\\lib\\site-packages (from ipykernel->jupyter>=1.0.0->-r requirements.txt (line 12)) (1.5.1)\n",
      "Requirement already satisfied: traitlets<6.0,>=5.1.0 in c:\\programdata\\anaconda3\\lib\\site-packages (from ipykernel->jupyter>=1.0.0->-r requirements.txt (line 12)) (5.1.1)\n",
      "Requirement already satisfied: jupyter-client<8.0 in c:\\programdata\\anaconda3\\lib\\site-packages (from ipykernel->jupyter>=1.0.0->-r requirements.txt (line 12)) (6.1.12)\n",
      "Requirement already satisfied: pickleshare in c:\\programdata\\anaconda3\\lib\\site-packages (from ipython>=7.23.1->ipykernel->jupyter>=1.0.0->-r requirements.txt (line 12)) (0.7.5)\n",
      "Requirement already satisfied: setuptools>=18.5 in c:\\programdata\\anaconda3\\lib\\site-packages (from ipython>=7.23.1->ipykernel->jupyter>=1.0.0->-r requirements.txt (line 12)) (61.2.0)\n",
      "Requirement already satisfied: backcall in c:\\programdata\\anaconda3\\lib\\site-packages (from ipython>=7.23.1->ipykernel->jupyter>=1.0.0->-r requirements.txt (line 12)) (0.2.0)\n",
      "Requirement already satisfied: jedi>=0.16 in c:\\programdata\\anaconda3\\lib\\site-packages (from ipython>=7.23.1->ipykernel->jupyter>=1.0.0->-r requirements.txt (line 12)) (0.18.1)\n",
      "Requirement already satisfied: prompt-toolkit!=3.0.0,!=3.0.1,<3.1.0,>=2.0.0 in c:\\programdata\\anaconda3\\lib\\site-packages (from ipython>=7.23.1->ipykernel->jupyter>=1.0.0->-r requirements.txt (line 12)) (3.0.20)\n",
      "Requirement already satisfied: pygments>=2.4.0 in c:\\programdata\\anaconda3\\lib\\site-packages (from ipython>=7.23.1->ipykernel->jupyter>=1.0.0->-r requirements.txt (line 12)) (2.11.2)\n",
      "Requirement already satisfied: stack-data in c:\\programdata\\anaconda3\\lib\\site-packages (from ipython>=7.23.1->ipykernel->jupyter>=1.0.0->-r requirements.txt (line 12)) (0.2.0)\n",
      "Requirement already satisfied: colorama in c:\\programdata\\anaconda3\\lib\\site-packages (from ipython>=7.23.1->ipykernel->jupyter>=1.0.0->-r requirements.txt (line 12)) (0.4.4)\n",
      "Requirement already satisfied: decorator in c:\\programdata\\anaconda3\\lib\\site-packages (from ipython>=7.23.1->ipykernel->jupyter>=1.0.0->-r requirements.txt (line 12)) (5.1.1)\n",
      "Requirement already satisfied: parso<0.9.0,>=0.8.0 in c:\\programdata\\anaconda3\\lib\\site-packages (from jedi>=0.16->ipython>=7.23.1->ipykernel->jupyter>=1.0.0->-r requirements.txt (line 12)) (0.8.3)\n",
      "Requirement already satisfied: jupyter-core>=4.6.0 in c:\\programdata\\anaconda3\\lib\\site-packages (from jupyter-client<8.0->ipykernel->jupyter>=1.0.0->-r requirements.txt (line 12)) (4.9.2)\n",
      "Requirement already satisfied: pyzmq>=13 in c:\\programdata\\anaconda3\\lib\\site-packages (from jupyter-client<8.0->ipykernel->jupyter>=1.0.0->-r requirements.txt (line 12)) (22.3.0)\n",
      "Requirement already satisfied: pywin32>=1.0 in c:\\programdata\\anaconda3\\lib\\site-packages (from jupyter-core>=4.6.0->jupyter-client<8.0->ipykernel->jupyter>=1.0.0->-r requirements.txt (line 12)) (302)\n",
      "Requirement already satisfied: wcwidth in c:\\programdata\\anaconda3\\lib\\site-packages (from prompt-toolkit!=3.0.0,!=3.0.1,<3.1.0,>=2.0.0->ipython>=7.23.1->ipykernel->jupyter>=1.0.0->-r requirements.txt (line 12)) (0.2.5)\n",
      "Requirement already satisfied: widgetsnbextension~=3.5.0 in c:\\programdata\\anaconda3\\lib\\site-packages (from ipywidgets->jupyter>=1.0.0->-r requirements.txt (line 12)) (3.5.2)\n",
      "Requirement already satisfied: nbformat>=4.2.0 in c:\\programdata\\anaconda3\\lib\\site-packages (from ipywidgets->jupyter>=1.0.0->-r requirements.txt (line 12)) (5.3.0)\n",
      "Requirement already satisfied: ipython-genutils~=0.2.0 in c:\\programdata\\anaconda3\\lib\\site-packages (from ipywidgets->jupyter>=1.0.0->-r requirements.txt (line 12)) (0.2.0)\n",
      "Requirement already satisfied: jupyterlab-widgets>=1.0.0 in c:\\programdata\\anaconda3\\lib\\site-packages (from ipywidgets->jupyter>=1.0.0->-r requirements.txt (line 12)) (1.0.0)\n",
      "Requirement already satisfied: jsonschema>=2.6 in c:\\programdata\\anaconda3\\lib\\site-packages (from nbformat>=4.2.0->ipywidgets->jupyter>=1.0.0->-r requirements.txt (line 12)) (4.4.0)\n",
      "Requirement already satisfied: fastjsonschema in c:\\programdata\\anaconda3\\lib\\site-packages (from nbformat>=4.2.0->ipywidgets->jupyter>=1.0.0->-r requirements.txt (line 12)) (2.15.1)\n",
      "Requirement already satisfied: attrs>=17.4.0 in c:\\programdata\\anaconda3\\lib\\site-packages (from jsonschema>=2.6->nbformat>=4.2.0->ipywidgets->jupyter>=1.0.0->-r requirements.txt (line 12)) (21.4.0)\n",
      "Requirement already satisfied: pyrsistent!=0.17.0,!=0.17.1,!=0.17.2,>=0.14.0 in c:\\programdata\\anaconda3\\lib\\site-packages (from jsonschema>=2.6->nbformat>=4.2.0->ipywidgets->jupyter>=1.0.0->-r requirements.txt (line 12)) (0.18.0)\n",
      "Requirement already satisfied: importlib-resources>=1.4.0 in c:\\programdata\\anaconda3\\lib\\site-packages (from jsonschema>=2.6->nbformat>=4.2.0->ipywidgets->jupyter>=1.0.0->-r requirements.txt (line 12)) (5.2.0)\n",
      "Requirement already satisfied: zipp>=3.1.0 in c:\\programdata\\anaconda3\\lib\\site-packages (from importlib-resources>=1.4.0->jsonschema>=2.6->nbformat>=4.2.0->ipywidgets->jupyter>=1.0.0->-r requirements.txt (line 12)) (3.7.0)\n",
      "Requirement already satisfied: argon2-cffi in c:\\programdata\\anaconda3\\lib\\site-packages (from notebook->jupyter>=1.0.0->-r requirements.txt (line 12)) (21.3.0)\n",
      "Requirement already satisfied: jinja2 in c:\\programdata\\anaconda3\\lib\\site-packages (from notebook->jupyter>=1.0.0->-r requirements.txt (line 12)) (2.11.3)\n",
      "Requirement already satisfied: prometheus-client in c:\\programdata\\anaconda3\\lib\\site-packages (from notebook->jupyter>=1.0.0->-r requirements.txt (line 12)) (0.13.1)\n",
      "Requirement already satisfied: Send2Trash>=1.8.0 in c:\\programdata\\anaconda3\\lib\\site-packages (from notebook->jupyter>=1.0.0->-r requirements.txt (line 12)) (1.8.0)\n",
      "Requirement already satisfied: terminado>=0.8.3 in c:\\programdata\\anaconda3\\lib\\site-packages (from notebook->jupyter>=1.0.0->-r requirements.txt (line 12)) (0.13.1)\n",
      "Requirement already satisfied: pywinpty>=1.1.0 in c:\\programdata\\anaconda3\\lib\\site-packages (from terminado>=0.8.3->notebook->jupyter>=1.0.0->-r requirements.txt (line 12)) (2.0.2)\n",
      "Requirement already satisfied: argon2-cffi-bindings in c:\\programdata\\anaconda3\\lib\\site-packages (from argon2-cffi->notebook->jupyter>=1.0.0->-r requirements.txt (line 12)) (21.2.0)\n",
      "Requirement already satisfied: cffi>=1.0.1 in c:\\programdata\\anaconda3\\lib\\site-packages (from argon2-cffi-bindings->argon2-cffi->notebook->jupyter>=1.0.0->-r requirements.txt (line 12)) (1.15.0)\n",
      "Requirement already satisfied: pycparser in c:\\programdata\\anaconda3\\lib\\site-packages (from cffi>=1.0.1->argon2-cffi-bindings->argon2-cffi->notebook->jupyter>=1.0.0->-r requirements.txt (line 12)) (2.21)\n",
      "Requirement already satisfied: MarkupSafe>=0.23 in c:\\programdata\\anaconda3\\lib\\site-packages (from jinja2->notebook->jupyter>=1.0.0->-r requirements.txt (line 12)) (2.0.1)\n",
      "Requirement already satisfied: testpath in c:\\programdata\\anaconda3\\lib\\site-packages (from nbconvert->jupyter>=1.0.0->-r requirements.txt (line 12)) (0.5.0)\n",
      "Requirement already satisfied: entrypoints>=0.2.2 in c:\\programdata\\anaconda3\\lib\\site-packages (from nbconvert->jupyter>=1.0.0->-r requirements.txt (line 12)) (0.4)\n",
      "Requirement already satisfied: defusedxml in c:\\programdata\\anaconda3\\lib\\site-packages (from nbconvert->jupyter>=1.0.0->-r requirements.txt (line 12)) (0.7.1)\n",
      "Requirement already satisfied: nbclient<0.6.0,>=0.5.0 in c:\\programdata\\anaconda3\\lib\\site-packages (from nbconvert->jupyter>=1.0.0->-r requirements.txt (line 12)) (0.5.13)\n",
      "Requirement already satisfied: bleach in c:\\programdata\\anaconda3\\lib\\site-packages (from nbconvert->jupyter>=1.0.0->-r requirements.txt (line 12)) (4.1.0)\n",
      "Requirement already satisfied: pandocfilters>=1.4.1 in c:\\programdata\\anaconda3\\lib\\site-packages (from nbconvert->jupyter>=1.0.0->-r requirements.txt (line 12)) (1.5.0)\n",
      "Requirement already satisfied: mistune<2,>=0.8.1 in c:\\programdata\\anaconda3\\lib\\site-packages (from nbconvert->jupyter>=1.0.0->-r requirements.txt (line 12)) (0.8.4)\n",
      "Requirement already satisfied: jupyterlab-pygments in c:\\programdata\\anaconda3\\lib\\site-packages (from nbconvert->jupyter>=1.0.0->-r requirements.txt (line 12)) (0.1.2)\n",
      "Requirement already satisfied: webencodings in c:\\programdata\\anaconda3\\lib\\site-packages (from bleach->nbconvert->jupyter>=1.0.0->-r requirements.txt (line 12)) (0.5.1)\n",
      "Requirement already satisfied: qtpy>=2.0.1 in c:\\programdata\\anaconda3\\lib\\site-packages (from qtconsole->jupyter>=1.0.0->-r requirements.txt (line 12)) (2.0.1)\n",
      "Requirement already satisfied: executing in c:\\programdata\\anaconda3\\lib\\site-packages (from stack-data->ipython>=7.23.1->ipykernel->jupyter>=1.0.0->-r requirements.txt (line 12)) (0.8.3)\n",
      "Requirement already satisfied: pure-eval in c:\\programdata\\anaconda3\\lib\\site-packages (from stack-data->ipython>=7.23.1->ipykernel->jupyter>=1.0.0->-r requirements.txt (line 12)) (0.2.2)\n",
      "Requirement already satisfied: asttokens in c:\\programdata\\anaconda3\\lib\\site-packages (from stack-data->ipython>=7.23.1->ipykernel->jupyter>=1.0.0->-r requirements.txt (line 12)) (2.0.5)\n"
     ]
    },
    {
     "name": "stderr",
     "output_type": "stream",
     "text": [
      "WARNING: Ignoring invalid distribution -ywinpty (c:\\programdata\\anaconda3\\lib\\site-packages)\n",
      "WARNING: Ignoring invalid distribution -finance (c:\\programdata\\anaconda3\\lib\\site-packages)\n",
      "WARNING: Ignoring invalid distribution - (c:\\programdata\\anaconda3\\lib\\site-packages)\n",
      "WARNING: Ignoring invalid distribution -ywinpty (c:\\programdata\\anaconda3\\lib\\site-packages)\n",
      "WARNING: Ignoring invalid distribution -finance (c:\\programdata\\anaconda3\\lib\\site-packages)\n",
      "WARNING: Ignoring invalid distribution - (c:\\programdata\\anaconda3\\lib\\site-packages)\n",
      "WARNING: Ignoring invalid distribution -ywinpty (c:\\programdata\\anaconda3\\lib\\site-packages)\n",
      "WARNING: Ignoring invalid distribution -finance (c:\\programdata\\anaconda3\\lib\\site-packages)\n",
      "WARNING: Ignoring invalid distribution - (c:\\programdata\\anaconda3\\lib\\site-packages)\n",
      "WARNING: Ignoring invalid distribution -ywinpty (c:\\programdata\\anaconda3\\lib\\site-packages)\n",
      "WARNING: Ignoring invalid distribution -finance (c:\\programdata\\anaconda3\\lib\\site-packages)\n",
      "WARNING: Ignoring invalid distribution - (c:\\programdata\\anaconda3\\lib\\site-packages)\n",
      "WARNING: Ignoring invalid distribution -ywinpty (c:\\programdata\\anaconda3\\lib\\site-packages)\n",
      "WARNING: Ignoring invalid distribution -finance (c:\\programdata\\anaconda3\\lib\\site-packages)\n",
      "WARNING: Ignoring invalid distribution - (c:\\programdata\\anaconda3\\lib\\site-packages)\n",
      "WARNING: Ignoring invalid distribution -ywinpty (c:\\programdata\\anaconda3\\lib\\site-packages)\n",
      "WARNING: Ignoring invalid distribution -finance (c:\\programdata\\anaconda3\\lib\\site-packages)\n",
      "WARNING: Ignoring invalid distribution - (c:\\programdata\\anaconda3\\lib\\site-packages)\n"
     ]
    }
   ],
   "source": [
    "!pip install -r requirements.txt"
   ]
  },
  {
   "cell_type": "markdown",
   "metadata": {},
   "source": [
    "If you prefer, manual installation can be done with the individual installation of the following libraries:\n",
    "\n",
    "<font color= lightblue> <font size = 1> \n",
    "+ pandas>=1.3.4\n",
    "+ numpy>=1.19.1\n",
    "+ jupyter>=1.0.0\n",
    "+ chart_studio>=1.1\n",
    "+ plotly>=4.14\n",
    "+ pandas_datareader>=0.10.0\n",
    "+ tk>=0.10\n",
    "+ plotly>=5.60\n",
    "+ yahoofinancials>=1.60\n",
    "+ scipy>=1.7.3\n",
    "+ regex>=2022.3.15\n",
    "+ matplotlib>=3.5.1\n",
    "+ fire>=0.4.0"
   ]
  },
  {
   "cell_type": "markdown",
   "metadata": {},
   "source": [
    "### <font color= lightblue> <font size = 4> 1. Introduction: </font>\n",
    "Behavioral finance studies the effects of the psychology of investors, inherent to human beings, and their effects on their investment decisions in the financial market because of the theory that states and proves that investors lack self control by the presence of their emotions, therefore, irrationality and biases are to be expected. With this laboratory the *disposition effect* defined as the tendency of investors to hold losing assets for too long and to sell winners too soon, will be detected and analyzed within historical trading data.\n",
    "\n",
    "<font color= gray>\n",
    "\n",
    "\n"
   ]
  },
  {
   "cell_type": "markdown",
   "metadata": {},
   "source": [
    "### <font color= lightblue> <font size = 4> 2. Data Description: </font>\n",
    "Behavioral finance studies the effects of the psychology of investors, inherent to human beings, and their effects on their investment decisions in the financial market because of the theory that states and proves that investors lack self control by the presence of their emotions, therefore, irrationality and biases are to be expected. With this laboratory the *disposition effect* defined as the tendency of investors to hold losing assets for too long and to sell winners too soon, will be detected and analyzed within historical trading data.\n",
    "\n",
    "<font color= gray>\n"
   ]
  },
  {
   "cell_type": "code",
   "execution_count": 12,
   "metadata": {
    "ExecuteTime": {
     "end_time": "2022-09-08T12:33:25.169931Z",
     "start_time": "2022-09-08T12:33:21.624281Z"
    }
   },
   "outputs": [],
   "source": [
    "## Libraries\n",
    "# Analysis and data management\n",
    "import pandas as pd\n",
    "import pandas_datareader as pdr\n",
    "import numpy as np\n",
    "import datetime\n",
    "from tkinter.ttk import Style\n",
    "from tkinter import Y\n",
    "import plotly.graph_objects as go #plotly\n",
    "import plotly.express as px\n",
    "from yahoofinancials import YahooFinancials # Yfinance \n",
    "from scipy.optimize import minimize # Optimización \n",
    "from collections import Counter #Counter\n",
    "import re\n",
    "import io \n",
    "import glob\n",
    "import os\n",
    "import matplotlib.pyplot as plt # Visualization\n",
    "import functions as fn\n",
    "import visualizations as vs\n",
    "import data as dt\n",
    "import pandas as pd\n",
    "from os import path\n",
    "import fire\n",
    "%matplotlib inline"
   ]
  },
  {
   "cell_type": "markdown",
   "metadata": {},
   "source": [
    "In order, to retrieve specific help from the scripts in the project execute the help function on the script or in specific modules from the following:\n",
    "+ [data.py](https://github.com/EstebanMqz/MS_Lab1_Marquez-Delgado-Esteban/blob/main/data.py)\n",
    "+ [functions.py](https://github.com/EstebanMqz/MS_Lab1_Marquez-Delgado-Esteban/blob/main/functions.py)\n",
    "+ [visualizations.py](https://github.com/EstebanMqz/MS_Lab1_Marquez-Delgado-Esteban/blob/main/visualizations.py)\n"
   ]
  },
  {
   "cell_type": "markdown",
   "metadata": {},
   "source": [
    "With this csv the historics of MT5 operations from a simulator are reported and it can be concluded that the start date is 2022/09/13 and the end date is 2022/09/23."
   ]
  },
  {
   "cell_type": "code",
   "execution_count": 13,
   "metadata": {},
   "outputs": [
    {
     "name": "stdout",
     "output_type": "stream",
     "text": [
      "Help on function read_csv in module data:\n",
      "\n",
      "read_csv(data)\n",
      "    Function that reads csv files and returns a dataframe of its content.\n",
      "    \n",
      "        Parameters\n",
      "        ----------\n",
      "        data: csv data.\n",
      "    \n",
      "        Returns\n",
      "        -------\n",
      "        data: pd.DataFrame(data)\n",
      "\n"
     ]
    }
   ],
   "source": [
    "help(dt.read_csv)"
   ]
  },
  {
   "cell_type": "code",
   "execution_count": 14,
   "metadata": {},
   "outputs": [
    {
     "data": {
      "text/html": [
       "<div>\n",
       "<style scoped>\n",
       "    .dataframe tbody tr th:only-of-type {\n",
       "        vertical-align: middle;\n",
       "    }\n",
       "\n",
       "    .dataframe tbody tr th {\n",
       "        vertical-align: top;\n",
       "    }\n",
       "\n",
       "    .dataframe thead th {\n",
       "        text-align: right;\n",
       "    }\n",
       "</style>\n",
       "<table border=\"1\" class=\"dataframe\">\n",
       "  <thead>\n",
       "    <tr style=\"text-align: right;\">\n",
       "      <th></th>\n",
       "      <th>Fecha/Hora</th>\n",
       "      <th>Posición</th>\n",
       "      <th>Símbolo</th>\n",
       "      <th>Tipo</th>\n",
       "      <th>Volumen</th>\n",
       "      <th>Precio</th>\n",
       "      <th>S / L</th>\n",
       "      <th>T / P</th>\n",
       "      <th>Fecha/Hora.1</th>\n",
       "      <th>Precio.1</th>\n",
       "      <th>Comisión</th>\n",
       "      <th>Swap</th>\n",
       "      <th>Beneficio</th>\n",
       "      <th>Lote</th>\n",
       "    </tr>\n",
       "  </thead>\n",
       "  <tbody>\n",
       "    <tr>\n",
       "      <th>0</th>\n",
       "      <td>2022.09.13 17:48:57</td>\n",
       "      <td>1456097851</td>\n",
       "      <td>USDMXN</td>\n",
       "      <td>buy</td>\n",
       "      <td>0.01</td>\n",
       "      <td>20.06662</td>\n",
       "      <td>NaN</td>\n",
       "      <td>NaN</td>\n",
       "      <td>2022.09.16 23:50:16</td>\n",
       "      <td>20.04611</td>\n",
       "      <td>0.0</td>\n",
       "      <td>1.09</td>\n",
       "      <td>- 1.02</td>\n",
       "      <td>100 000.00</td>\n",
       "    </tr>\n",
       "    <tr>\n",
       "      <th>1</th>\n",
       "      <td>2022.09.13 17:53:00</td>\n",
       "      <td>1456103822</td>\n",
       "      <td>USDMXN</td>\n",
       "      <td>buy</td>\n",
       "      <td>0.01</td>\n",
       "      <td>20.06398</td>\n",
       "      <td>NaN</td>\n",
       "      <td>NaN</td>\n",
       "      <td>2022.09.16 23:50:18</td>\n",
       "      <td>20.04611</td>\n",
       "      <td>0.0</td>\n",
       "      <td>1.09</td>\n",
       "      <td>- 0.89</td>\n",
       "      <td>100 000.00</td>\n",
       "    </tr>\n",
       "    <tr>\n",
       "      <th>2</th>\n",
       "      <td>2022.09.13 18:17:58</td>\n",
       "      <td>1456144995</td>\n",
       "      <td>USDMXN</td>\n",
       "      <td>buy</td>\n",
       "      <td>0.01</td>\n",
       "      <td>20.05822</td>\n",
       "      <td>NaN</td>\n",
       "      <td>NaN</td>\n",
       "      <td>2022.09.16 23:50:21</td>\n",
       "      <td>20.04611</td>\n",
       "      <td>0.0</td>\n",
       "      <td>1.09</td>\n",
       "      <td>- 0.60</td>\n",
       "      <td>100 000.00</td>\n",
       "    </tr>\n",
       "    <tr>\n",
       "      <th>3</th>\n",
       "      <td>2022.09.13 18:18:15</td>\n",
       "      <td>1456145305</td>\n",
       "      <td>USDMXN</td>\n",
       "      <td>buy</td>\n",
       "      <td>0.01</td>\n",
       "      <td>20.05828</td>\n",
       "      <td>NaN</td>\n",
       "      <td>NaN</td>\n",
       "      <td>2022.09.16 23:50:24</td>\n",
       "      <td>20.04611</td>\n",
       "      <td>0.0</td>\n",
       "      <td>1.09</td>\n",
       "      <td>- 0.61</td>\n",
       "      <td>100 000.00</td>\n",
       "    </tr>\n",
       "    <tr>\n",
       "      <th>4</th>\n",
       "      <td>2022.09.13 18:18:47</td>\n",
       "      <td>1456145908</td>\n",
       "      <td>USDMXN</td>\n",
       "      <td>buy</td>\n",
       "      <td>0.01</td>\n",
       "      <td>20.05644</td>\n",
       "      <td>NaN</td>\n",
       "      <td>NaN</td>\n",
       "      <td>2022.09.16 23:50:28</td>\n",
       "      <td>20.04611</td>\n",
       "      <td>0.0</td>\n",
       "      <td>1.09</td>\n",
       "      <td>- 0.52</td>\n",
       "      <td>100 000.00</td>\n",
       "    </tr>\n",
       "  </tbody>\n",
       "</table>\n",
       "</div>"
      ],
      "text/plain": [
       "            Fecha/Hora    Posición Símbolo Tipo  Volumen    Precio  S / L  \\\n",
       "0  2022.09.13 17:48:57  1456097851  USDMXN  buy     0.01  20.06662    NaN   \n",
       "1  2022.09.13 17:53:00  1456103822  USDMXN  buy     0.01  20.06398    NaN   \n",
       "2  2022.09.13 18:17:58  1456144995  USDMXN  buy     0.01  20.05822    NaN   \n",
       "3  2022.09.13 18:18:15  1456145305  USDMXN  buy     0.01  20.05828    NaN   \n",
       "4  2022.09.13 18:18:47  1456145908  USDMXN  buy     0.01  20.05644    NaN   \n",
       "\n",
       "   T / P         Fecha/Hora.1  Precio.1  Comisión   Swap Beneficio        Lote  \n",
       "0    NaN  2022.09.16 23:50:16  20.04611       0.0   1.09    - 1.02  100 000.00  \n",
       "1    NaN  2022.09.16 23:50:18  20.04611       0.0   1.09    - 0.89  100 000.00  \n",
       "2    NaN  2022.09.16 23:50:21  20.04611       0.0   1.09    - 0.60  100 000.00  \n",
       "3    NaN  2022.09.16 23:50:24  20.04611       0.0   1.09    - 0.61  100 000.00  \n",
       "4    NaN  2022.09.16 23:50:28  20.04611       0.0   1.09    - 0.52  100 000.00  "
      ]
     },
     "execution_count": 14,
     "metadata": {},
     "output_type": "execute_result"
    }
   ],
   "source": [
    "data = dt.read_csv('Historics.csv')\n",
    "data.head()"
   ]
  },
  {
   "cell_type": "code",
   "execution_count": 15,
   "metadata": {},
   "outputs": [
    {
     "data": {
      "text/html": [
       "<div>\n",
       "<style scoped>\n",
       "    .dataframe tbody tr th:only-of-type {\n",
       "        vertical-align: middle;\n",
       "    }\n",
       "\n",
       "    .dataframe tbody tr th {\n",
       "        vertical-align: top;\n",
       "    }\n",
       "\n",
       "    .dataframe thead th {\n",
       "        text-align: right;\n",
       "    }\n",
       "</style>\n",
       "<table border=\"1\" class=\"dataframe\">\n",
       "  <thead>\n",
       "    <tr style=\"text-align: right;\">\n",
       "      <th></th>\n",
       "      <th>Fecha/Hora</th>\n",
       "      <th>Posición</th>\n",
       "      <th>Símbolo</th>\n",
       "      <th>Tipo</th>\n",
       "      <th>Volumen</th>\n",
       "      <th>Precio</th>\n",
       "      <th>S / L</th>\n",
       "      <th>T / P</th>\n",
       "      <th>Fecha/Hora.1</th>\n",
       "      <th>Precio.1</th>\n",
       "      <th>Comisión</th>\n",
       "      <th>Swap</th>\n",
       "      <th>Beneficio</th>\n",
       "      <th>Lote</th>\n",
       "    </tr>\n",
       "  </thead>\n",
       "  <tbody>\n",
       "    <tr>\n",
       "      <th>75</th>\n",
       "      <td>2022.09.23 15:24:29</td>\n",
       "      <td>1466689694</td>\n",
       "      <td>USDMXN</td>\n",
       "      <td>buy</td>\n",
       "      <td>0.01</td>\n",
       "      <td>20.09860</td>\n",
       "      <td>19.99</td>\n",
       "      <td>20.15</td>\n",
       "      <td>2022.09.23 16:01:45</td>\n",
       "      <td>20.15</td>\n",
       "      <td>0.0</td>\n",
       "      <td>0.00</td>\n",
       "      <td>2.55</td>\n",
       "      <td>100 000.00</td>\n",
       "    </tr>\n",
       "    <tr>\n",
       "      <th>76</th>\n",
       "      <td>2022.09.23 15:24:44</td>\n",
       "      <td>1466690221</td>\n",
       "      <td>USDMXN</td>\n",
       "      <td>buy</td>\n",
       "      <td>0.01</td>\n",
       "      <td>20.09837</td>\n",
       "      <td>19.99</td>\n",
       "      <td>20.15</td>\n",
       "      <td>2022.09.23 16:01:45</td>\n",
       "      <td>20.15</td>\n",
       "      <td>0.0</td>\n",
       "      <td>0.00</td>\n",
       "      <td>2.56</td>\n",
       "      <td>100 000.00</td>\n",
       "    </tr>\n",
       "    <tr>\n",
       "      <th>77</th>\n",
       "      <td>2022.09.23 15:24:57</td>\n",
       "      <td>1466690582</td>\n",
       "      <td>USDMXN</td>\n",
       "      <td>buy</td>\n",
       "      <td>0.01</td>\n",
       "      <td>20.10201</td>\n",
       "      <td>19.99</td>\n",
       "      <td>20.15</td>\n",
       "      <td>2022.09.23 16:01:45</td>\n",
       "      <td>20.15</td>\n",
       "      <td>0.0</td>\n",
       "      <td>0.00</td>\n",
       "      <td>2.38</td>\n",
       "      <td>100 000.00</td>\n",
       "    </tr>\n",
       "    <tr>\n",
       "      <th>78</th>\n",
       "      <td>2022.09.23 15:25:08</td>\n",
       "      <td>1466690888</td>\n",
       "      <td>USDMXN</td>\n",
       "      <td>buy</td>\n",
       "      <td>0.01</td>\n",
       "      <td>20.10218</td>\n",
       "      <td>19.99</td>\n",
       "      <td>20.15</td>\n",
       "      <td>2022.09.23 16:01:45</td>\n",
       "      <td>20.15</td>\n",
       "      <td>0.0</td>\n",
       "      <td>0.00</td>\n",
       "      <td>2.37</td>\n",
       "      <td>100 000.00</td>\n",
       "    </tr>\n",
       "    <tr>\n",
       "      <th>79</th>\n",
       "      <td>2022.09.23 15:25:17</td>\n",
       "      <td>1466691097</td>\n",
       "      <td>USDMXN</td>\n",
       "      <td>buy</td>\n",
       "      <td>0.01</td>\n",
       "      <td>20.10396</td>\n",
       "      <td>19.99</td>\n",
       "      <td>20.15</td>\n",
       "      <td>2022.09.23 16:01:45</td>\n",
       "      <td>20.15</td>\n",
       "      <td>0.0</td>\n",
       "      <td>0.00</td>\n",
       "      <td>2.28</td>\n",
       "      <td>100 000.00</td>\n",
       "    </tr>\n",
       "  </tbody>\n",
       "</table>\n",
       "</div>"
      ],
      "text/plain": [
       "             Fecha/Hora    Posición Símbolo Tipo  Volumen    Precio  S / L  \\\n",
       "75  2022.09.23 15:24:29  1466689694  USDMXN  buy     0.01  20.09860  19.99   \n",
       "76  2022.09.23 15:24:44  1466690221  USDMXN  buy     0.01  20.09837  19.99   \n",
       "77  2022.09.23 15:24:57  1466690582  USDMXN  buy     0.01  20.10201  19.99   \n",
       "78  2022.09.23 15:25:08  1466690888  USDMXN  buy     0.01  20.10218  19.99   \n",
       "79  2022.09.23 15:25:17  1466691097  USDMXN  buy     0.01  20.10396  19.99   \n",
       "\n",
       "    T / P         Fecha/Hora.1  Precio.1  Comisión  Swap Beneficio        Lote  \n",
       "75  20.15  2022.09.23 16:01:45     20.15       0.0  0.00      2.55  100 000.00  \n",
       "76  20.15  2022.09.23 16:01:45     20.15       0.0  0.00      2.56  100 000.00  \n",
       "77  20.15  2022.09.23 16:01:45     20.15       0.0  0.00      2.38  100 000.00  \n",
       "78  20.15  2022.09.23 16:01:45     20.15       0.0  0.00      2.37  100 000.00  \n",
       "79  20.15  2022.09.23 16:01:45     20.15       0.0  0.00      2.28  100 000.00  "
      ]
     },
     "execution_count": 15,
     "metadata": {},
     "output_type": "execute_result"
    }
   ],
   "source": [
    "data.tail()"
   ]
  },
  {
   "cell_type": "markdown",
   "metadata": {},
   "source": [
    "Unique Values of the the Symbols traded were the following forex:"
   ]
  },
  {
   "cell_type": "code",
   "execution_count": 16,
   "metadata": {},
   "outputs": [
    {
     "data": {
      "text/plain": [
       "array(['USDMXN', 'EURUSD', 'GBPUSD'], dtype=object)"
      ]
     },
     "execution_count": 16,
     "metadata": {},
     "output_type": "execute_result"
    }
   ],
   "source": [
    "data.Símbolo.unique()"
   ]
  },
  {
   "cell_type": "code",
   "execution_count": 26,
   "metadata": {},
   "outputs": [
    {
     "data": {
      "text/html": [
       "<div>\n",
       "<style scoped>\n",
       "    .dataframe tbody tr th:only-of-type {\n",
       "        vertical-align: middle;\n",
       "    }\n",
       "\n",
       "    .dataframe tbody tr th {\n",
       "        vertical-align: top;\n",
       "    }\n",
       "\n",
       "    .dataframe thead th {\n",
       "        text-align: right;\n",
       "    }\n",
       "</style>\n",
       "<table border=\"1\" class=\"dataframe\">\n",
       "  <thead>\n",
       "    <tr style=\"text-align: right;\">\n",
       "      <th></th>\n",
       "      <th>Símbolo</th>\n",
       "      <th>Beneficio</th>\n",
       "    </tr>\n",
       "  </thead>\n",
       "  <tbody>\n",
       "    <tr>\n",
       "      <th>0</th>\n",
       "      <td>USDMXN</td>\n",
       "      <td>- 1.02</td>\n",
       "    </tr>\n",
       "    <tr>\n",
       "      <th>1</th>\n",
       "      <td>USDMXN</td>\n",
       "      <td>- 0.89</td>\n",
       "    </tr>\n",
       "    <tr>\n",
       "      <th>2</th>\n",
       "      <td>USDMXN</td>\n",
       "      <td>- 0.60</td>\n",
       "    </tr>\n",
       "    <tr>\n",
       "      <th>3</th>\n",
       "      <td>USDMXN</td>\n",
       "      <td>- 0.61</td>\n",
       "    </tr>\n",
       "    <tr>\n",
       "      <th>4</th>\n",
       "      <td>USDMXN</td>\n",
       "      <td>- 0.52</td>\n",
       "    </tr>\n",
       "  </tbody>\n",
       "</table>\n",
       "</div>"
      ],
      "text/plain": [
       "  Símbolo Beneficio\n",
       "0  USDMXN    - 1.02\n",
       "1  USDMXN    - 0.89\n",
       "2  USDMXN    - 0.60\n",
       "3  USDMXN    - 0.61\n",
       "4  USDMXN    - 0.52"
      ]
     },
     "execution_count": 26,
     "metadata": {},
     "output_type": "execute_result"
    }
   ],
   "source": [
    "Pi=data[['Símbolo', 'Beneficio']]\n",
    "Pi.head()"
   ]
  },
  {
   "cell_type": "markdown",
   "metadata": {},
   "source": [
    "The profits of the forex currencies traded where the following:"
   ]
  },
  {
   "cell_type": "code",
   "execution_count": 29,
   "metadata": {},
   "outputs": [
    {
     "data": {
      "application/vnd.plotly.v1+json": {
       "config": {
        "plotlyServerURL": "https://plot.ly"
       },
       "data": [
        {
         "alignmentgroup": "True",
         "bingroup": "x",
         "histfunc": "sum",
         "hovertemplate": "color=USDMXN<br>x=%{x}<br>sum of y=%{y}<extra></extra>",
         "legendgroup": "USDMXN",
         "marker": {
          "color": "#636efa",
          "pattern": {
           "shape": ""
          }
         },
         "name": "USDMXN",
         "offsetgroup": "USDMXN",
         "orientation": "v",
         "showlegend": true,
         "type": "histogram",
         "x": [
          "USDMXN",
          "USDMXN",
          "USDMXN",
          "USDMXN",
          "USDMXN",
          "USDMXN",
          "USDMXN",
          "USDMXN",
          "USDMXN",
          "USDMXN",
          "USDMXN",
          "USDMXN",
          "USDMXN",
          "USDMXN",
          "USDMXN",
          "USDMXN",
          "USDMXN",
          "USDMXN",
          "USDMXN",
          "USDMXN",
          "USDMXN",
          "USDMXN",
          "USDMXN"
         ],
         "xaxis": "x",
         "y": [
          "- 1.02",
          "- 0.89",
          "- 0.60",
          "- 0.61",
          "- 0.52",
          "- 0.52",
          " 0.20",
          "- 0.43",
          " 0.32",
          " 0.21",
          "- 0.37",
          " 0.01",
          " 19.37",
          " 1.87",
          " 1.87",
          " 1.93",
          " 1.89",
          " 1.86",
          " 2.55",
          " 2.56",
          " 2.38",
          " 2.37",
          " 2.28"
         ],
         "yaxis": "y"
        },
        {
         "alignmentgroup": "True",
         "bingroup": "x",
         "histfunc": "sum",
         "hovertemplate": "color=EURUSD<br>x=%{x}<br>sum of y=%{y}<extra></extra>",
         "legendgroup": "EURUSD",
         "marker": {
          "color": "#EF553B",
          "pattern": {
           "shape": ""
          }
         },
         "name": "EURUSD",
         "offsetgroup": "EURUSD",
         "orientation": "v",
         "showlegend": true,
         "type": "histogram",
         "x": [
          "EURUSD",
          "EURUSD",
          "EURUSD",
          "EURUSD",
          "EURUSD",
          "EURUSD",
          "EURUSD",
          "EURUSD",
          "EURUSD",
          "EURUSD",
          "EURUSD",
          "EURUSD",
          "EURUSD",
          "EURUSD",
          "EURUSD",
          "EURUSD",
          "EURUSD",
          "EURUSD",
          "EURUSD",
          "EURUSD",
          "EURUSD",
          "EURUSD",
          "EURUSD",
          "EURUSD",
          "EURUSD",
          "EURUSD",
          "EURUSD",
          "EURUSD",
          "EURUSD",
          "EURUSD",
          "EURUSD",
          "EURUSD",
          "EURUSD",
          "EURUSD",
          "EURUSD",
          "EURUSD",
          "EURUSD",
          "EURUSD",
          "EURUSD",
          "EURUSD",
          "EURUSD",
          "EURUSD",
          "EURUSD",
          "EURUSD",
          "EURUSD",
          "EURUSD",
          "EURUSD",
          "EURUSD",
          "EURUSD",
          "EURUSD",
          "EURUSD",
          "EURUSD",
          "EURUSD"
         ],
         "xaxis": "x",
         "y": [
          " 1.21",
          " 1.33",
          " 1.41",
          " 1.31",
          " 1.33",
          " 1.34",
          " 1.34",
          " 1.30",
          " 1.30",
          " 1.31",
          " 0.27",
          " 0.32",
          " 0.26",
          " 0.37",
          " 0.37",
          " 0.38",
          " 0.41",
          " 0.13",
          " 0.11",
          " 0.11",
          " 0.10",
          " 0.16",
          " 0.23",
          " 0.25",
          " 0.25",
          " 0.31",
          " 0.33",
          " 0.32",
          " 0.31",
          " 2.34",
          " 1.82",
          " 4.03",
          " 3.90",
          " 3.38",
          " 3.51",
          " 3.12",
          " 1.04",
          " 1.17",
          " 332.88",
          " 0.21",
          " 0.18",
          " 0.16",
          " 0.20",
          " 0.20",
          " 0.21",
          " 0.19",
          " 0.16",
          " 0.17",
          "- 1.62",
          "- 1.67",
          "- 1.50",
          "- 1.49",
          "- 1.46"
         ],
         "yaxis": "y"
        },
        {
         "alignmentgroup": "True",
         "bingroup": "x",
         "histfunc": "sum",
         "hovertemplate": "color=GBPUSD<br>x=%{x}<br>sum of y=%{y}<extra></extra>",
         "legendgroup": "GBPUSD",
         "marker": {
          "color": "#00cc96",
          "pattern": {
           "shape": ""
          }
         },
         "name": "GBPUSD",
         "offsetgroup": "GBPUSD",
         "orientation": "v",
         "showlegend": true,
         "type": "histogram",
         "x": [
          "GBPUSD",
          "GBPUSD",
          "GBPUSD",
          "GBPUSD"
         ],
         "xaxis": "x",
         "y": [
          "- 49.05",
          "- 9.77",
          "- 9.90",
          "- 20.14"
         ],
         "yaxis": "y"
        }
       ],
       "layout": {
        "barmode": "relative",
        "legend": {
         "title": {
          "text": "color"
         },
         "tracegroupgap": 0
        },
        "template": {
         "data": {
          "bar": [
           {
            "error_x": {
             "color": "#2a3f5f"
            },
            "error_y": {
             "color": "#2a3f5f"
            },
            "marker": {
             "line": {
              "color": "#E5ECF6",
              "width": 0.5
             },
             "pattern": {
              "fillmode": "overlay",
              "size": 10,
              "solidity": 0.2
             }
            },
            "type": "bar"
           }
          ],
          "barpolar": [
           {
            "marker": {
             "line": {
              "color": "#E5ECF6",
              "width": 0.5
             },
             "pattern": {
              "fillmode": "overlay",
              "size": 10,
              "solidity": 0.2
             }
            },
            "type": "barpolar"
           }
          ],
          "carpet": [
           {
            "aaxis": {
             "endlinecolor": "#2a3f5f",
             "gridcolor": "white",
             "linecolor": "white",
             "minorgridcolor": "white",
             "startlinecolor": "#2a3f5f"
            },
            "baxis": {
             "endlinecolor": "#2a3f5f",
             "gridcolor": "white",
             "linecolor": "white",
             "minorgridcolor": "white",
             "startlinecolor": "#2a3f5f"
            },
            "type": "carpet"
           }
          ],
          "choropleth": [
           {
            "colorbar": {
             "outlinewidth": 0,
             "ticks": ""
            },
            "type": "choropleth"
           }
          ],
          "contour": [
           {
            "colorbar": {
             "outlinewidth": 0,
             "ticks": ""
            },
            "colorscale": [
             [
              0,
              "#0d0887"
             ],
             [
              0.1111111111111111,
              "#46039f"
             ],
             [
              0.2222222222222222,
              "#7201a8"
             ],
             [
              0.3333333333333333,
              "#9c179e"
             ],
             [
              0.4444444444444444,
              "#bd3786"
             ],
             [
              0.5555555555555556,
              "#d8576b"
             ],
             [
              0.6666666666666666,
              "#ed7953"
             ],
             [
              0.7777777777777778,
              "#fb9f3a"
             ],
             [
              0.8888888888888888,
              "#fdca26"
             ],
             [
              1,
              "#f0f921"
             ]
            ],
            "type": "contour"
           }
          ],
          "contourcarpet": [
           {
            "colorbar": {
             "outlinewidth": 0,
             "ticks": ""
            },
            "type": "contourcarpet"
           }
          ],
          "heatmap": [
           {
            "colorbar": {
             "outlinewidth": 0,
             "ticks": ""
            },
            "colorscale": [
             [
              0,
              "#0d0887"
             ],
             [
              0.1111111111111111,
              "#46039f"
             ],
             [
              0.2222222222222222,
              "#7201a8"
             ],
             [
              0.3333333333333333,
              "#9c179e"
             ],
             [
              0.4444444444444444,
              "#bd3786"
             ],
             [
              0.5555555555555556,
              "#d8576b"
             ],
             [
              0.6666666666666666,
              "#ed7953"
             ],
             [
              0.7777777777777778,
              "#fb9f3a"
             ],
             [
              0.8888888888888888,
              "#fdca26"
             ],
             [
              1,
              "#f0f921"
             ]
            ],
            "type": "heatmap"
           }
          ],
          "heatmapgl": [
           {
            "colorbar": {
             "outlinewidth": 0,
             "ticks": ""
            },
            "colorscale": [
             [
              0,
              "#0d0887"
             ],
             [
              0.1111111111111111,
              "#46039f"
             ],
             [
              0.2222222222222222,
              "#7201a8"
             ],
             [
              0.3333333333333333,
              "#9c179e"
             ],
             [
              0.4444444444444444,
              "#bd3786"
             ],
             [
              0.5555555555555556,
              "#d8576b"
             ],
             [
              0.6666666666666666,
              "#ed7953"
             ],
             [
              0.7777777777777778,
              "#fb9f3a"
             ],
             [
              0.8888888888888888,
              "#fdca26"
             ],
             [
              1,
              "#f0f921"
             ]
            ],
            "type": "heatmapgl"
           }
          ],
          "histogram": [
           {
            "marker": {
             "pattern": {
              "fillmode": "overlay",
              "size": 10,
              "solidity": 0.2
             }
            },
            "type": "histogram"
           }
          ],
          "histogram2d": [
           {
            "colorbar": {
             "outlinewidth": 0,
             "ticks": ""
            },
            "colorscale": [
             [
              0,
              "#0d0887"
             ],
             [
              0.1111111111111111,
              "#46039f"
             ],
             [
              0.2222222222222222,
              "#7201a8"
             ],
             [
              0.3333333333333333,
              "#9c179e"
             ],
             [
              0.4444444444444444,
              "#bd3786"
             ],
             [
              0.5555555555555556,
              "#d8576b"
             ],
             [
              0.6666666666666666,
              "#ed7953"
             ],
             [
              0.7777777777777778,
              "#fb9f3a"
             ],
             [
              0.8888888888888888,
              "#fdca26"
             ],
             [
              1,
              "#f0f921"
             ]
            ],
            "type": "histogram2d"
           }
          ],
          "histogram2dcontour": [
           {
            "colorbar": {
             "outlinewidth": 0,
             "ticks": ""
            },
            "colorscale": [
             [
              0,
              "#0d0887"
             ],
             [
              0.1111111111111111,
              "#46039f"
             ],
             [
              0.2222222222222222,
              "#7201a8"
             ],
             [
              0.3333333333333333,
              "#9c179e"
             ],
             [
              0.4444444444444444,
              "#bd3786"
             ],
             [
              0.5555555555555556,
              "#d8576b"
             ],
             [
              0.6666666666666666,
              "#ed7953"
             ],
             [
              0.7777777777777778,
              "#fb9f3a"
             ],
             [
              0.8888888888888888,
              "#fdca26"
             ],
             [
              1,
              "#f0f921"
             ]
            ],
            "type": "histogram2dcontour"
           }
          ],
          "mesh3d": [
           {
            "colorbar": {
             "outlinewidth": 0,
             "ticks": ""
            },
            "type": "mesh3d"
           }
          ],
          "parcoords": [
           {
            "line": {
             "colorbar": {
              "outlinewidth": 0,
              "ticks": ""
             }
            },
            "type": "parcoords"
           }
          ],
          "pie": [
           {
            "automargin": true,
            "type": "pie"
           }
          ],
          "scatter": [
           {
            "marker": {
             "colorbar": {
              "outlinewidth": 0,
              "ticks": ""
             }
            },
            "type": "scatter"
           }
          ],
          "scatter3d": [
           {
            "line": {
             "colorbar": {
              "outlinewidth": 0,
              "ticks": ""
             }
            },
            "marker": {
             "colorbar": {
              "outlinewidth": 0,
              "ticks": ""
             }
            },
            "type": "scatter3d"
           }
          ],
          "scattercarpet": [
           {
            "marker": {
             "colorbar": {
              "outlinewidth": 0,
              "ticks": ""
             }
            },
            "type": "scattercarpet"
           }
          ],
          "scattergeo": [
           {
            "marker": {
             "colorbar": {
              "outlinewidth": 0,
              "ticks": ""
             }
            },
            "type": "scattergeo"
           }
          ],
          "scattergl": [
           {
            "marker": {
             "colorbar": {
              "outlinewidth": 0,
              "ticks": ""
             }
            },
            "type": "scattergl"
           }
          ],
          "scattermapbox": [
           {
            "marker": {
             "colorbar": {
              "outlinewidth": 0,
              "ticks": ""
             }
            },
            "type": "scattermapbox"
           }
          ],
          "scatterpolar": [
           {
            "marker": {
             "colorbar": {
              "outlinewidth": 0,
              "ticks": ""
             }
            },
            "type": "scatterpolar"
           }
          ],
          "scatterpolargl": [
           {
            "marker": {
             "colorbar": {
              "outlinewidth": 0,
              "ticks": ""
             }
            },
            "type": "scatterpolargl"
           }
          ],
          "scatterternary": [
           {
            "marker": {
             "colorbar": {
              "outlinewidth": 0,
              "ticks": ""
             }
            },
            "type": "scatterternary"
           }
          ],
          "surface": [
           {
            "colorbar": {
             "outlinewidth": 0,
             "ticks": ""
            },
            "colorscale": [
             [
              0,
              "#0d0887"
             ],
             [
              0.1111111111111111,
              "#46039f"
             ],
             [
              0.2222222222222222,
              "#7201a8"
             ],
             [
              0.3333333333333333,
              "#9c179e"
             ],
             [
              0.4444444444444444,
              "#bd3786"
             ],
             [
              0.5555555555555556,
              "#d8576b"
             ],
             [
              0.6666666666666666,
              "#ed7953"
             ],
             [
              0.7777777777777778,
              "#fb9f3a"
             ],
             [
              0.8888888888888888,
              "#fdca26"
             ],
             [
              1,
              "#f0f921"
             ]
            ],
            "type": "surface"
           }
          ],
          "table": [
           {
            "cells": {
             "fill": {
              "color": "#EBF0F8"
             },
             "line": {
              "color": "white"
             }
            },
            "header": {
             "fill": {
              "color": "#C8D4E3"
             },
             "line": {
              "color": "white"
             }
            },
            "type": "table"
           }
          ]
         },
         "layout": {
          "annotationdefaults": {
           "arrowcolor": "#2a3f5f",
           "arrowhead": 0,
           "arrowwidth": 1
          },
          "autotypenumbers": "strict",
          "coloraxis": {
           "colorbar": {
            "outlinewidth": 0,
            "ticks": ""
           }
          },
          "colorscale": {
           "diverging": [
            [
             0,
             "#8e0152"
            ],
            [
             0.1,
             "#c51b7d"
            ],
            [
             0.2,
             "#de77ae"
            ],
            [
             0.3,
             "#f1b6da"
            ],
            [
             0.4,
             "#fde0ef"
            ],
            [
             0.5,
             "#f7f7f7"
            ],
            [
             0.6,
             "#e6f5d0"
            ],
            [
             0.7,
             "#b8e186"
            ],
            [
             0.8,
             "#7fbc41"
            ],
            [
             0.9,
             "#4d9221"
            ],
            [
             1,
             "#276419"
            ]
           ],
           "sequential": [
            [
             0,
             "#0d0887"
            ],
            [
             0.1111111111111111,
             "#46039f"
            ],
            [
             0.2222222222222222,
             "#7201a8"
            ],
            [
             0.3333333333333333,
             "#9c179e"
            ],
            [
             0.4444444444444444,
             "#bd3786"
            ],
            [
             0.5555555555555556,
             "#d8576b"
            ],
            [
             0.6666666666666666,
             "#ed7953"
            ],
            [
             0.7777777777777778,
             "#fb9f3a"
            ],
            [
             0.8888888888888888,
             "#fdca26"
            ],
            [
             1,
             "#f0f921"
            ]
           ],
           "sequentialminus": [
            [
             0,
             "#0d0887"
            ],
            [
             0.1111111111111111,
             "#46039f"
            ],
            [
             0.2222222222222222,
             "#7201a8"
            ],
            [
             0.3333333333333333,
             "#9c179e"
            ],
            [
             0.4444444444444444,
             "#bd3786"
            ],
            [
             0.5555555555555556,
             "#d8576b"
            ],
            [
             0.6666666666666666,
             "#ed7953"
            ],
            [
             0.7777777777777778,
             "#fb9f3a"
            ],
            [
             0.8888888888888888,
             "#fdca26"
            ],
            [
             1,
             "#f0f921"
            ]
           ]
          },
          "colorway": [
           "#636efa",
           "#EF553B",
           "#00cc96",
           "#ab63fa",
           "#FFA15A",
           "#19d3f3",
           "#FF6692",
           "#B6E880",
           "#FF97FF",
           "#FECB52"
          ],
          "font": {
           "color": "#2a3f5f"
          },
          "geo": {
           "bgcolor": "white",
           "lakecolor": "white",
           "landcolor": "#E5ECF6",
           "showlakes": true,
           "showland": true,
           "subunitcolor": "white"
          },
          "hoverlabel": {
           "align": "left"
          },
          "hovermode": "closest",
          "mapbox": {
           "style": "light"
          },
          "paper_bgcolor": "white",
          "plot_bgcolor": "#E5ECF6",
          "polar": {
           "angularaxis": {
            "gridcolor": "white",
            "linecolor": "white",
            "ticks": ""
           },
           "bgcolor": "#E5ECF6",
           "radialaxis": {
            "gridcolor": "white",
            "linecolor": "white",
            "ticks": ""
           }
          },
          "scene": {
           "xaxis": {
            "backgroundcolor": "#E5ECF6",
            "gridcolor": "white",
            "gridwidth": 2,
            "linecolor": "white",
            "showbackground": true,
            "ticks": "",
            "zerolinecolor": "white"
           },
           "yaxis": {
            "backgroundcolor": "#E5ECF6",
            "gridcolor": "white",
            "gridwidth": 2,
            "linecolor": "white",
            "showbackground": true,
            "ticks": "",
            "zerolinecolor": "white"
           },
           "zaxis": {
            "backgroundcolor": "#E5ECF6",
            "gridcolor": "white",
            "gridwidth": 2,
            "linecolor": "white",
            "showbackground": true,
            "ticks": "",
            "zerolinecolor": "white"
           }
          },
          "shapedefaults": {
           "line": {
            "color": "#2a3f5f"
           }
          },
          "ternary": {
           "aaxis": {
            "gridcolor": "white",
            "linecolor": "white",
            "ticks": ""
           },
           "baxis": {
            "gridcolor": "white",
            "linecolor": "white",
            "ticks": ""
           },
           "bgcolor": "#E5ECF6",
           "caxis": {
            "gridcolor": "white",
            "linecolor": "white",
            "ticks": ""
           }
          },
          "title": {
           "x": 0.05
          },
          "xaxis": {
           "automargin": true,
           "gridcolor": "white",
           "linecolor": "white",
           "ticks": "",
           "title": {
            "standoff": 15
           },
           "zerolinecolor": "white",
           "zerolinewidth": 2
          },
          "yaxis": {
           "automargin": true,
           "gridcolor": "white",
           "linecolor": "white",
           "ticks": "",
           "title": {
            "standoff": 15
           },
           "zerolinecolor": "white",
           "zerolinewidth": 2
          }
         }
        },
        "title": {
         "text": "Profits"
        },
        "xaxis": {
         "anchor": "y",
         "categoryorder": "total descending",
         "domain": [
          0,
          1
         ],
         "title": {
          "text": "Símbolo"
         }
        },
        "yaxis": {
         "anchor": "x",
         "domain": [
          0,
          1
         ],
         "tickfont": {
          "size": 9
         },
         "title": {
          "text": "Beneficio"
         }
        }
       }
      }
     },
     "metadata": {},
     "output_type": "display_data"
    }
   ],
   "source": [
    "vs.hist_csv(Pi, 'Profits', 'Símbolo', 'Beneficio')"
   ]
  },
  {
   "cell_type": "markdown",
   "metadata": {},
   "source": [
    "### <font color= lightblue> <font size = 4> 3. Bibliography: </font>\n",
    "\n",
    "<font color= gray>\n",
    "\n",
    "Villalobos, O, 2021. Python Project Template. https://github.com/OmarVillalobos/python-project."
   ]
  }
 ],
 "metadata": {
  "kernelspec": {
   "display_name": "Python 3 (ipykernel)",
   "language": "python",
   "name": "python3"
  },
  "language_info": {
   "codemirror_mode": {
    "name": "ipython",
    "version": 3
   },
   "file_extension": ".py",
   "mimetype": "text/x-python",
   "name": "python",
   "nbconvert_exporter": "python",
   "pygments_lexer": "ipython3",
   "version": "3.8.13"
  },
  "toc": {
   "base_numbering": 1,
   "nav_menu": {},
   "number_sections": true,
   "sideBar": true,
   "skip_h1_title": false,
   "title_cell": "Table of Contents",
   "title_sidebar": "Contents",
   "toc_cell": false,
   "toc_position": {},
   "toc_section_display": true,
   "toc_window_display": false
  },
  "vscode": {
   "interpreter": {
    "hash": "ad2bdc8ecc057115af97d19610ffacc2b4e99fae6737bb82f5d7fb13d2f2c186"
   }
  }
 },
 "nbformat": 4,
 "nbformat_minor": 2
}
